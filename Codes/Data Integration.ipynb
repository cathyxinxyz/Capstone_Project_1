{
 "cells": [
  {
   "cell_type": "markdown",
   "metadata": {},
   "source": [
    "This is the collection of codes that read food atlas datasets and CDC health indicator datasets from Github repository, integrate datasets and cleaning data"
   ]
  },
  {
   "cell_type": "code",
   "execution_count": 109,
   "metadata": {},
   "outputs": [],
   "source": [
    "#merge food atlas datasets into one\n",
    "import pandas as pd\n",
    "\n",
    "Overall_folder='C:/Users/cathy/Capstone_project_1/'\n",
    "\n",
    "dfs=list()\n",
    "url_folder='https://raw.githubusercontent.com/cathyxinxyz/Capstone_Project_1/master/Datasets/Food_atlas/'\n",
    "\n",
    "filenames=['ACCESS','ASSISTANCE','HEALTH','INSECURITY','LOCAL','PRICES_TAXES','RESTAURANTS','SOCIOECONOMIC','STORES']\n",
    "for i,filename in enumerate(filenames):\n",
    "    filepath=url_folder+filename+\".csv\"   \n",
    "    d=pd.read_csv(filepath,index_col='FIPS',encoding=\"ISO-8859-1\")\n",
    "    #append datasets to the list and drop the redundent columns:'State' and 'County'\n",
    "    if i!=0:\n",
    "        dfs.append(d.drop(['State', 'County'], axis=1))\n",
    "    else:\n",
    "        dfs.append(d)\n",
    "\n",
    "#merge datasets\n",
    "df_merge=pd.concat(dfs, join='outer', axis=1)"
   ]
  },
  {
   "cell_type": "code",
   "execution_count": null,
   "metadata": {},
   "outputs": [],
   "source": [
    "print (df_merge.head(5))"
   ]
  },
  {
   "cell_type": "markdown",
   "metadata": {},
   "source": [
    "Check columns for missing values"
   ]
  },
  {
   "cell_type": "code",
   "execution_count": null,
   "metadata": {
    "scrolled": true
   },
   "outputs": [],
   "source": [
    "df_merge.describe()"
   ]
  },
  {
   "cell_type": "code",
   "execution_count": 110,
   "metadata": {
    "collapsed": true
   },
   "outputs": [
    {
     "name": "stdout",
     "output_type": "stream",
     "text": [
      "Index(['PC_WIC_REDEMP08', 'PC_WIC_REDEMP12', 'PCH_PC_WIC_REDEMP_08_12',\n",
      "       'REDEMP_WICS08', 'REDEMP_WICS12', 'PCH_REDEMP_WICS_08_12', 'PCT_HSPA15',\n",
      "       'PCT_LOCLSALE07', 'PCH_DIRSALES_07_12', 'PCH_PC_DIRSALES_07_12',\n",
      "       'PCH_FMRKT_09_16', 'PCH_FMRKTPTH_09_16', 'FMRKT_SNAP16',\n",
      "       'PCT_FMRKT_SNAP16', 'FMRKT_WIC16', 'PCT_FMRKT_WIC16', 'FMRKT_WICCASH16',\n",
      "       'PCT_FMRKT_WICCASH16', 'FMRKT_SFMNP16', 'PCT_FMRKT_SFMNP16',\n",
      "       'FMRKT_CREDIT16', 'PCT_FMRKT_CREDIT16', 'FMRKT_FRVEG16',\n",
      "       'PCT_FMRKT_FRVEG16', 'FMRKT_ANMLPROD16', 'PCT_FMRKT_ANMLPROD16',\n",
      "       'FMRKT_BAKED16', 'PCT_FMRKT_BAKED16', 'FMRKT_OTHERFOOD16',\n",
      "       'PCT_FMRKT_OTHERFOOD16', 'PCH_VEG_FARMS_07_12', 'VEG_ACRES07',\n",
      "       'VEG_ACRES12', 'PCH_VEG_ACRES_07_12', 'VEG_ACRESPTH07',\n",
      "       'VEG_ACRESPTH12', 'PCH_VEG_ACRESPTH_07_12', 'PCH_FRESHVEG_FARMS_07_12',\n",
      "       'FRESHVEG_ACRES07', 'FRESHVEG_ACRES12', 'PCH_FRESHVEG_ACRES_07_12',\n",
      "       'FRESHVEG_ACRESPTH07', 'FRESHVEG_ACRESPTH12',\n",
      "       'PCH_FRESHVEG_ACRESPTH_07_12', 'PCH_ORCHARD_FARMS_07_12',\n",
      "       'ORCHARD_ACRES07', 'ORCHARD_ACRES12', 'PCH_ORCHARD_ACRES_07_12',\n",
      "       'ORCHARD_ACRESPTH07', 'ORCHARD_ACRESPTH12',\n",
      "       'PCH_ORCHARD_ACRESPTH_07_12', 'PCH_BERRY_FARMS_07_12', 'BERRY_ACRES07',\n",
      "       'BERRY_ACRES12', 'PCH_BERRY_ACRES_07_12', 'BERRY_ACRESPTH07',\n",
      "       'BERRY_ACRESPTH12', 'PCH_BERRY_ACRESPTH_07_12', 'PCH_GHVEG_FARMS_07_12',\n",
      "       'GHVEG_SQFT07', 'GHVEG_SQFT12', 'PCH_GHVEG_SQFT_07_12',\n",
      "       'GHVEG_SQFTPTH07', 'GHVEG_SQFTPTH12', 'PCH_GHVEG_SQFTPTH_07_12',\n",
      "       'PCH_CSA_07_12', 'PCH_AGRITRSM_OPS_07_12', 'AGRITRSM_RCT07',\n",
      "       'AGRITRSM_RCT12', 'PCH_AGRITRSM_RCT_07_12'],\n",
      "      dtype='object')\n"
     ]
    }
   ],
   "source": [
    "number_null_values_percol=df_merge.isnull().sum(axis=0)\n",
    "#columns with over 100 missing values\n",
    "cols_with_over_10_percent_null_values=number_null_values_percol[number_null_values_percol>0.1*df_merge.shape[0]]\n",
    "print (cols_with_over_10_percent_null_values.index)"
   ]
  },
  {
   "cell_type": "code",
   "execution_count": 111,
   "metadata": {
    "scrolled": true
   },
   "outputs": [],
   "source": [
    "#drop these columns first\n",
    "df_merge=df_merge.drop(list(cols_with_over_10_percent_null_values.index), axis=1)"
   ]
  },
  {
   "cell_type": "code",
   "execution_count": 112,
   "metadata": {},
   "outputs": [
    {
     "data": {
      "text/plain": [
       "(3143, 209)"
      ]
     },
     "execution_count": 112,
     "metadata": {},
     "output_type": "execute_result"
    }
   ],
   "source": [
    "df_merge.shape"
   ]
  },
  {
   "cell_type": "code",
   "execution_count": null,
   "metadata": {},
   "outputs": [],
   "source": [
    "#check number of remaining columns\n",
    "print (df_merge.columns)"
   ]
  },
  {
   "cell_type": "markdown",
   "metadata": {},
   "source": [
    "categorizes columns into three groups: category data ('State' and 'County'), count data, percent data, # per 1000 pop, and percent change\n",
    "\n",
    "columns to keep: category data ('State' and 'County'), percent data, # per 1000 pop, and percent change; remove count data because it is not adjusted by population size\n",
    "\n",
    "Each column name is highly abstract and unreadable, need to extract info from the variable information provided by Food_atlas"
   ]
  },
  {
   "cell_type": "code",
   "execution_count": null,
   "metadata": {
    "scrolled": true
   },
   "outputs": [],
   "source": [
    "from collections import defaultdict\n",
    "\n",
    "url='https://raw.githubusercontent.com/cathyxinxyz/Capstone_Project_1/master/Datasets/Food_atlas/variable_info.csv'\n",
    "var_info_df=pd.read_csv(url,encoding=\"ISO-8859-1\")\n",
    "var_info_dict=defaultdict(list)\n",
    "for idx in var_info_df.index:\n",
    "    k=var_info_df['Units'][idx]\n",
    "    var_info_dict[k].append(var_info_df['Variable Code'][idx])\n"
   ]
  },
  {
   "cell_type": "markdown",
   "metadata": {},
   "source": [
    "further filter varaibles based on following principles:\n",
    "i. keep variables that are adjusted by population size: '% change', 'Percent', '# per 1,000 pop','Percentage points';\n",
    "ii. keep variables that are mostly valuable for analysis\n",
    "iii. keep variables where values are valid: e.g. no negative values for variables with units as 'Percent' or '# per 1,000 pop'.\n"
   ]
  },
  {
   "cell_type": "code",
   "execution_count": 113,
   "metadata": {
    "scrolled": true
   },
   "outputs": [],
   "source": [
    "#units to keep: '% change', 'Percent', '# per 1,000 pop','Percentage points'\n",
    "for k in var_info_dict.keys():\n",
    "    if k not in ['Percent', '# per 1,000 pop','Dollars'] and var_info_dict[k] not in ['State','County']:\n",
    "        df_merge = df_merge[df_merge.columns.difference(var_info_dict[k])]\n",
    "        \n",
    "#print (df_merge.shape)"
   ]
  },
  {
   "cell_type": "code",
   "execution_count": 114,
   "metadata": {
    "collapsed": true
   },
   "outputs": [
    {
     "name": "stdout",
     "output_type": "stream",
     "text": [
      "ACCESS Overall Percent PCT_LACCESS_POP10\n",
      "ACCESS Overall Percent PCT_LACCESS_POP15\n",
      "ACCESS Low income Percent PCT_LACCESS_LOWI10\n",
      "ACCESS Low income Percent PCT_LACCESS_LOWI15\n",
      "ACCESS no car Percent PCT_LACCESS_HHNV10\n",
      "ACCESS no car Percent PCT_LACCESS_HHNV15\n",
      "ACCESS SNAP Percent PCT_LACCESS_SNAP15\n",
      "ACCESS Children Percent PCT_LACCESS_CHILD10\n",
      "ACCESS Children Percent PCT_LACCESS_CHILD15\n",
      "ACCESS Seniors Percent PCT_LACCESS_SENIORS10\n",
      "ACCESS Seniors Percent PCT_LACCESS_SENIORS15\n",
      "ACCESS White Percent PCT_LACCESS_WHITE15\n",
      "ACCESS Black Percent PCT_LACCESS_BLACK15\n",
      "ACCESS Hispanic ethnicity Percent PCT_LACCESS_HISP15\n",
      "ACCESS Asian Percent PCT_LACCESS_NHASIAN15\n",
      "ACCESS American Indian or Alaska Native Percent PCT_LACCESS_NHNA15\n",
      "ACCESS Hawaiian or Pacific Islander Percent PCT_LACCESS_NHPI15\n",
      "ACCESS Multiracial Percent PCT_LACCESS_MULTIR15\n",
      "STORES Grocery # per 1,000 pop GROCPTH09\n",
      "STORES Grocery # per 1,000 pop GROCPTH14\n",
      "STORES Supercenters # per 1,000 pop SUPERCPTH09\n",
      "STORES Supercenters # per 1,000 pop SUPERCPTH14\n",
      "STORES Convenience # per 1,000 pop CONVSPTH09\n",
      "STORES Convenience # per 1,000 pop CONVSPTH14\n",
      "STORES Specialized # per 1,000 pop SPECSPTH09\n",
      "STORES Specialized # per 1,000 pop SPECSPTH14\n",
      "STORES SNAP-authorized # per 1,000 pop SNAPSPTH12\n",
      "STORES SNAP-authorized # per 1,000 pop SNAPSPTH16\n",
      "STORES WIC-authorized # per 1,000 pop WICSPTH08\n",
      "STORES WIC-authorized # per 1,000 pop WICSPTH12\n",
      "RESTAURANTS Fast-food # per 1,000 pop FFRPTH09\n",
      "RESTAURANTS Fast-food # per 1,000 pop FFRPTH14\n",
      "RESTAURANTS Full-service # per 1,000 pop FSRPTH09\n",
      "RESTAURANTS Full-service # per 1,000 pop FSRPTH14\n",
      "RESTAURANTS fast food Dollars PC_FFRSALES07\n",
      "RESTAURANTS fast food Dollars PC_FFRSALES12\n",
      "RESTAURANTS restaurants Dollars PC_FSRSALES07\n",
      "RESTAURANTS restaurants Dollars PC_FSRSALES12\n",
      "ASSISTANCE SNAP participants Percent PCT_SNAP12\n",
      "ASSISTANCE SNAP participants  Percent PCT_SNAP16\n",
      "ASSISTANCE SNAP participants/eligible pop Percent SNAP_PART_RATE08\n",
      "ASSISTANCE SNAP participants/eligible pop Percent SNAP_PART_RATE13\n",
      "ASSISTANCE National School Lunch Program participants  Percent PCT_NSLP09\n",
      "ASSISTANCE National School Lunch Program participants  Percent PCT_NSLP15\n",
      "ASSISTANCE Students eligible for free lunch Percent PCT_FREE_LUNCH09\n",
      "ASSISTANCE Students eligible for free lunch Percent PCT_FREE_LUNCH14\n",
      "ASSISTANCE Students eligible for reduced-price lunch Percent PCT_REDUCED_LUNCH09\n",
      "ASSISTANCE Students eligible for reduced-price lunch Percent PCT_REDUCED_LUNCH14\n",
      "ASSISTANCE School Breakfast Program participants Percent PCT_SBP09\n",
      "ASSISTANCE School Breakfast Program participants Percent PCT_SBP15\n",
      "ASSISTANCE Summer Food Program participants Percent PCT_SFSP09\n",
      "ASSISTANCE Summer Food Program participants Percent PCT_SFSP15\n",
      "ASSISTANCE WIC participants Percent PCT_WIC09\n",
      "ASSISTANCE WIC participants Percent PCT_WIC15\n",
      "ASSISTANCE nan Percent PCT_CACFP09\n",
      "ASSISTANCE nan Percent PCT_CACFP15\n",
      "INSECURITY Household food insecurity Percent FOODINSEC_10_12\n",
      "INSECURITY Household food insecurity Percent FOODINSEC_13_15\n",
      "INSECURITY Household very low food security Percent VLFOODSEC_10_12\n",
      "INSECURITY Household very low food security Percent VLFOODSEC_13_15\n",
      "INSECURITY Household child food insecurity Percent FOODINSEC_CHILD_01_07\n",
      "INSECURITY Household child food insecurity Percent FOODINSEC_CHILD_03_11\n",
      "PRICES_TAXES Soda/retail stores Percent SODATAX_STORES14\n",
      "PRICES_TAXES Soda/vending Percent SODATAX_VENDM14\n",
      "PRICES_TAXES Chip & pretzel sales tax/ retail stores Percent CHIPSTAX_STORES14\n",
      "PRICES_TAXES Chip & pretzel sales tax/ retail stores Percent CHIPSTAX_VENDM14\n",
      "PRICES_TAXES General food sales tax/ retail stores Percent FOOD_TAX14\n",
      "LOCAL Farms Percent PCT_LOCLFARM07\n",
      "LOCAL Farms Percent PCT_LOCLFARM12\n",
      "LOCAL Direct farm sales Percent PCT_LOCLSALE12\n",
      "LOCAL Direct farm sales per capita Dollars PC_DIRSALES07\n",
      "LOCAL Direct farm sales per capita Dollars PC_DIRSALES12\n",
      "LOCAL overall # per 1,000 pop FMRKTPTH09\n",
      "LOCAL overall # per 1,000 pop FMRKTPTH16\n",
      "HEALTH Adult diabetes rate Percent PCT_DIABETES_ADULTS08\n",
      "HEALTH Adult diabetes rate Percent PCT_DIABETES_ADULTS13\n",
      "HEALTH Adult obesity rate Percent PCT_OBESE_ADULTS08\n",
      "HEALTH Adult obesity rate Percent PCT_OBESE_ADULTS13\n",
      "HEALTH Recreation & fitness facilities # per 1,000 pop RECFACPTH09\n",
      "HEALTH Recreation & fitness facilities # per 1,000 pop RECFACPTH14\n",
      "SOCIOECONOMIC White Percent PCT_NHWHITE10\n",
      "SOCIOECONOMIC Black Percent PCT_NHBLACK10\n",
      "SOCIOECONOMIC Hispanic Percent PCT_HISP10\n",
      "SOCIOECONOMIC Asian Percent PCT_NHASIAN10\n",
      "SOCIOECONOMIC American Indian or Alaska Native Percent PCT_NHNA10\n",
      "SOCIOECONOMIC Hawaiian or Pacific Islander Percent PCT_NHPI10\n",
      "SOCIOECONOMIC >=65 Percent PCT_65OLDER10\n",
      "SOCIOECONOMIC <18 Percent PCT_18YOUNGER10\n",
      "SOCIOECONOMIC Median household income Dollars MEDHHINC15\n",
      "SOCIOECONOMIC Poverty rate Percent POVRATE15\n",
      "SOCIOECONOMIC Child poverty rate Percent CHILDPOVRATE15\n"
     ]
    }
   ],
   "source": [
    "#view variables\n",
    "for idx in var_info_df.index:\n",
    "    k=var_info_df['Units'][idx]\n",
    "    k1=var_info_df['Category Code'][idx]\n",
    "    k2=var_info_df['Sub_subcategory Name'][idx]\n",
    "    var=var_info_df['Variable Code'][idx]\n",
    "    \n",
    "    if var in df_merge.columns:\n",
    "        print (k1,k2,k,var)"
   ]
  },
  {
   "cell_type": "code",
   "execution_count": 115,
   "metadata": {
    "collapsed": true
   },
   "outputs": [
    {
     "name": "stdout",
     "output_type": "stream",
     "text": [
      "ACCESS Overall Percent PCT_LACCESS_POP10\n",
      "ACCESS Overall Percent PCT_LACCESS_POP15\n",
      "ACCESS Low income Percent PCT_LACCESS_LOWI10\n",
      "ACCESS Low income Percent PCT_LACCESS_LOWI15\n",
      "ACCESS no car Percent PCT_LACCESS_HHNV10\n",
      "ACCESS no car Percent PCT_LACCESS_HHNV15\n",
      "ACCESS SNAP Percent PCT_LACCESS_SNAP15\n",
      "ACCESS Children Percent PCT_LACCESS_CHILD10\n",
      "ACCESS Children Percent PCT_LACCESS_CHILD15\n",
      "ACCESS Seniors Percent PCT_LACCESS_SENIORS10\n",
      "ACCESS Seniors Percent PCT_LACCESS_SENIORS15\n",
      "ACCESS White Percent PCT_LACCESS_WHITE15\n",
      "ACCESS Black Percent PCT_LACCESS_BLACK15\n",
      "ACCESS Hispanic ethnicity Percent PCT_LACCESS_HISP15\n",
      "ACCESS Asian Percent PCT_LACCESS_NHASIAN15\n",
      "ACCESS American Indian or Alaska Native Percent PCT_LACCESS_NHNA15\n",
      "ACCESS Hawaiian or Pacific Islander Percent PCT_LACCESS_NHPI15\n",
      "ACCESS Multiracial Percent PCT_LACCESS_MULTIR15\n",
      "STORES Grocery # per 1,000 pop GROCPTH09\n",
      "STORES Grocery # per 1,000 pop GROCPTH14\n",
      "STORES Supercenters # per 1,000 pop SUPERCPTH09\n",
      "STORES Supercenters # per 1,000 pop SUPERCPTH14\n",
      "STORES Convenience # per 1,000 pop CONVSPTH09\n",
      "STORES Convenience # per 1,000 pop CONVSPTH14\n",
      "STORES Specialized # per 1,000 pop SPECSPTH09\n",
      "STORES Specialized # per 1,000 pop SPECSPTH14\n",
      "STORES SNAP-authorized # per 1,000 pop SNAPSPTH12\n",
      "STORES SNAP-authorized # per 1,000 pop SNAPSPTH16\n",
      "STORES WIC-authorized # per 1,000 pop WICSPTH08\n",
      "STORES WIC-authorized # per 1,000 pop WICSPTH12\n",
      "RESTAURANTS Fast-food # per 1,000 pop FFRPTH09\n",
      "RESTAURANTS Fast-food # per 1,000 pop FFRPTH14\n",
      "RESTAURANTS Full-service # per 1,000 pop FSRPTH09\n",
      "RESTAURANTS Full-service # per 1,000 pop FSRPTH14\n",
      "RESTAURANTS fast food Dollars PC_FFRSALES07\n",
      "RESTAURANTS fast food Dollars PC_FFRSALES12\n",
      "RESTAURANTS restaurants Dollars PC_FSRSALES07\n",
      "RESTAURANTS restaurants Dollars PC_FSRSALES12\n",
      "ASSISTANCE SNAP participants Percent PCT_SNAP12\n",
      "ASSISTANCE SNAP participants  Percent PCT_SNAP16\n",
      "ASSISTANCE SNAP participants/eligible pop Percent SNAP_PART_RATE08\n",
      "ASSISTANCE SNAP participants/eligible pop Percent SNAP_PART_RATE13\n",
      "ASSISTANCE National School Lunch Program participants  Percent PCT_NSLP09\n",
      "ASSISTANCE National School Lunch Program participants  Percent PCT_NSLP15\n",
      "ASSISTANCE Students eligible for free lunch Percent PCT_FREE_LUNCH09\n",
      "ASSISTANCE Students eligible for free lunch Percent PCT_FREE_LUNCH14\n",
      "ASSISTANCE Students eligible for reduced-price lunch Percent PCT_REDUCED_LUNCH09\n",
      "ASSISTANCE Students eligible for reduced-price lunch Percent PCT_REDUCED_LUNCH14\n",
      "ASSISTANCE School Breakfast Program participants Percent PCT_SBP09\n",
      "ASSISTANCE School Breakfast Program participants Percent PCT_SBP15\n",
      "ASSISTANCE Summer Food Program participants Percent PCT_SFSP09\n",
      "ASSISTANCE Summer Food Program participants Percent PCT_SFSP15\n",
      "ASSISTANCE WIC participants Percent PCT_WIC09\n",
      "ASSISTANCE WIC participants Percent PCT_WIC15\n",
      "ASSISTANCE nan Percent PCT_CACFP09\n",
      "ASSISTANCE nan Percent PCT_CACFP15\n",
      "INSECURITY Household food insecurity Percent FOODINSEC_10_12\n",
      "INSECURITY Household food insecurity Percent FOODINSEC_13_15\n",
      "INSECURITY Household very low food security Percent VLFOODSEC_10_12\n",
      "INSECURITY Household very low food security Percent VLFOODSEC_13_15\n",
      "INSECURITY Household child food insecurity Percent FOODINSEC_CHILD_01_07\n",
      "INSECURITY Household child food insecurity Percent FOODINSEC_CHILD_03_11\n",
      "PRICES_TAXES Soda/retail stores Percent SODATAX_STORES14\n",
      "PRICES_TAXES Soda/vending Percent SODATAX_VENDM14\n",
      "PRICES_TAXES Chip & pretzel sales tax/ retail stores Percent CHIPSTAX_STORES14\n",
      "PRICES_TAXES Chip & pretzel sales tax/ retail stores Percent CHIPSTAX_VENDM14\n",
      "PRICES_TAXES General food sales tax/ retail stores Percent FOOD_TAX14\n",
      "LOCAL Farms Percent PCT_LOCLFARM07\n",
      "LOCAL Farms Percent PCT_LOCLFARM12\n",
      "LOCAL Direct farm sales Percent PCT_LOCLSALE12\n",
      "LOCAL Direct farm sales per capita Dollars PC_DIRSALES07\n",
      "LOCAL Direct farm sales per capita Dollars PC_DIRSALES12\n",
      "LOCAL overall # per 1,000 pop FMRKTPTH09\n",
      "LOCAL overall # per 1,000 pop FMRKTPTH16\n",
      "HEALTH Adult diabetes rate Percent PCT_DIABETES_ADULTS08\n",
      "HEALTH Adult diabetes rate Percent PCT_DIABETES_ADULTS13\n",
      "HEALTH Adult obesity rate Percent PCT_OBESE_ADULTS08\n",
      "HEALTH Adult obesity rate Percent PCT_OBESE_ADULTS13\n",
      "HEALTH Recreation & fitness facilities # per 1,000 pop RECFACPTH09\n",
      "HEALTH Recreation & fitness facilities # per 1,000 pop RECFACPTH14\n",
      "SOCIOECONOMIC White Percent PCT_NHWHITE10\n",
      "SOCIOECONOMIC Black Percent PCT_NHBLACK10\n",
      "SOCIOECONOMIC Hispanic Percent PCT_HISP10\n",
      "SOCIOECONOMIC Asian Percent PCT_NHASIAN10\n",
      "SOCIOECONOMIC American Indian or Alaska Native Percent PCT_NHNA10\n",
      "SOCIOECONOMIC Hawaiian or Pacific Islander Percent PCT_NHPI10\n",
      "SOCIOECONOMIC >=65 Percent PCT_65OLDER10\n",
      "SOCIOECONOMIC <18 Percent PCT_18YOUNGER10\n",
      "SOCIOECONOMIC Median household income Dollars MEDHHINC15\n",
      "SOCIOECONOMIC Poverty rate Percent POVRATE15\n",
      "SOCIOECONOMIC Child poverty rate Percent CHILDPOVRATE15\n"
     ]
    }
   ],
   "source": [
    "\n",
    "#view variables\n",
    "for idx in var_info_df.index:\n",
    "    k=var_info_df['Units'][idx]\n",
    "    k1=var_info_df['Category Code'][idx]\n",
    "    k2=var_info_df['Sub_subcategory Name'][idx]\n",
    "    var=var_info_df['Variable Code'][idx]\n",
    "    \n",
    "    if var in df_merge.columns:\n",
    "        print (k1,k2,k,var)"
   ]
  },
  {
   "cell_type": "code",
   "execution_count": 116,
   "metadata": {},
   "outputs": [],
   "source": [
    "#devide dataframe into two: one with variables measured at one year and one with variables as percent change、\n",
    "var_timepoint=list()\n",
    "var_percentchange=list()\n",
    "for idx in var_info_df.index:\n",
    "    k=var_info_df['Units'][idx]\n",
    "    k1=var_info_df['Category Code'][idx]\n",
    "    k2=var_info_df['Sub_subcategory Name'][idx]\n",
    "    var=var_info_df['Variable Code'][idx]\n",
    "    \n",
    "    if var in df_merge.columns: \n",
    "        var_timepoint.append(var)\n",
    "\n",
    "var_timepoint.extend(['State','County'])\n",
    "var_percentchange.extend(['State','County'])\n",
    "df_tp=df_merge[var_timepoint]\n"
   ]
  },
  {
   "cell_type": "code",
   "execution_count": 117,
   "metadata": {
    "scrolled": true
   },
   "outputs": [
    {
     "name": "stdout",
     "output_type": "stream",
     "text": [
      "(3143, 93)\n"
     ]
    }
   ],
   "source": [
    "print (df_tp.shape)"
   ]
  },
  {
   "cell_type": "code",
   "execution_count": 118,
   "metadata": {},
   "outputs": [
    {
     "name": "stdout",
     "output_type": "stream",
     "text": [
      "('ACCESS', 'Overall', 'PCT_LACCESS_POP10', 25)\n",
      "('ACCESS', 'Overall', 'PCT_LACCESS_POP15', 22)\n"
     ]
    },
    {
     "name": "stderr",
     "output_type": "stream",
     "text": [
      "C:\\anaconda\\lib\\site-packages\\ipykernel_launcher.py:21: SettingWithCopyWarning: \n",
      "A value is trying to be set on a copy of a slice from a DataFrame\n",
      "\n",
      "See the caveats in the documentation: http://pandas.pydata.org/pandas-docs/stable/indexing.html#indexing-view-versus-copy\n",
      "C:\\anaconda\\lib\\site-packages\\pandas\\core\\generic.py:5233: SettingWithCopyWarning: \n",
      "A value is trying to be set on a copy of a slice from a DataFrame\n",
      "\n",
      "See the caveats in the documentation: http://pandas.pydata.org/pandas-docs/stable/indexing.html#indexing-view-versus-copy\n",
      "  self._update_inplace(new_data)\n",
      "C:\\anaconda\\lib\\site-packages\\IPython\\core\\interactiveshell.py:2862: SettingWithCopyWarning: \n",
      "A value is trying to be set on a copy of a slice from a DataFrame\n",
      "\n",
      "See the caveats in the documentation: http://pandas.pydata.org/pandas-docs/stable/indexing.html#indexing-view-versus-copy\n",
      "  exec(code_obj, self.user_global_ns, self.user_ns)\n"
     ]
    }
   ],
   "source": [
    "#check weather each column has valid values:\n",
    "####### columns with units 'Percent' should have values between 0 and 100, any value that fall out of this range should be changed to NaN values\n",
    "###### \n",
    "######\n",
    "######\n",
    "\n",
    "#Replace invalid values with np.nan\n",
    "import numpy as np\n",
    "\n",
    "for idx in var_info_df.index:\n",
    "    k=var_info_df['Units'][idx]\n",
    "    k1=var_info_df['Category Code'][idx]\n",
    "    k2=var_info_df['Sub_subcategory Name'][idx]\n",
    "    var=var_info_df['Variable Code'][idx]\n",
    "    \n",
    "    if k =='Percent' and var in df_tp.columns: \n",
    "        ser=df_tp[var]<0 \n",
    "        ser=ser+df_tp[var]>100\n",
    "        if ser.sum()>0:\n",
    "            print ((k1,k2,var,ser.sum()))\n",
    "            df_tp[var][(df_tp[var]<0)|(df_tp[var]>100)]=np.nan\n",
    "    elif k=='# per 1,000 pop' and var in df_tp.columns:\n",
    "        ser=df_tp[var]<0\n",
    "        ser=ser+df_tp[var]>1000\n",
    "        if ser.sum()>0:\n",
    "            print ((k1,k2,var,ser.sum()))\n",
    "            df_tp[var][(df_tp[var]<0)|(df_tp[var]>1000)]=np.nan\n",
    "\n",
    "\n",
    "        "
   ]
  },
  {
   "cell_type": "code",
   "execution_count": 119,
   "metadata": {
    "scrolled": true
   },
   "outputs": [],
   "source": [
    "#break df_tp into two sets: variables measured at the earlier time point: df_tp_1; and variables measured at the earlier time point: df_tp_2\n",
    "\n",
    "#group the same measure into tuples, the same measure share the same name except the last two digits which indicate the year of the measure\n",
    "var_grouped_by_measures=defaultdict(list)\n",
    "early_measure_list=['State','County']\n",
    "late_measure_list=['State','County']\n",
    "for idx in var_info_df.index:\n",
    "    k=var_info_df['Units'][idx]\n",
    "    k1=var_info_df['Category Code'][idx]\n",
    "    k2=var_info_df['Sub_subcategory Name'][idx]\n",
    "    var=var_info_df['Variable Code'][idx]\n",
    "    \n",
    "    if var in df_tp.columns and var not in ['State','County']:\n",
    "        var_grouped_by_measures[(k1,k2)].append((var, float(var[-2:])))\n",
    "    \n",
    "for v in var_grouped_by_measures.values():\n",
    "    v.sort(key=lambda tup: tup[-1])\n",
    "    late_measure_list.append(v[-1][0])\n",
    "    \n",
    "df_tp_later=df_tp[late_measure_list]"
   ]
  },
  {
   "cell_type": "code",
   "execution_count": 120,
   "metadata": {
    "scrolled": true
   },
   "outputs": [
    {
     "name": "stdout",
     "output_type": "stream",
     "text": [
      "(3143, 60)\n"
     ]
    }
   ],
   "source": [
    "print (df_tp_later.shape)"
   ]
  },
  {
   "cell_type": "code",
   "execution_count": 104,
   "metadata": {
    "collapsed": true
   },
   "outputs": [
    {
     "name": "stdout",
     "output_type": "stream",
     "text": [
      "<class 'pandas.core.frame.DataFrame'>\n",
      "Int64Index: 3143 entries, 1001 to 56045\n",
      "Data columns (total 83 columns):\n",
      "State                     3143 non-null object\n",
      "County                    3143 non-null object\n",
      "PCT_LACCESS_POP15         3102 non-null float64\n",
      "PCT_LACCESS_LOWI15        3123 non-null float64\n",
      "PCT_LACCESS_HHNV15        3140 non-null float64\n",
      "PCT_LACCESS_SNAP15        3123 non-null float64\n",
      "PCT_LACCESS_CHILD15       3124 non-null float64\n",
      "PCT_LACCESS_SENIORS15     3124 non-null float64\n",
      "PCT_LACCESS_WHITE15       3124 non-null float64\n",
      "PCT_LACCESS_BLACK15       3124 non-null float64\n",
      "PCT_LACCESS_HISP15        3124 non-null float64\n",
      "PCT_LACCESS_NHASIAN15     3124 non-null float64\n",
      "PCT_LACCESS_NHNA15        3124 non-null float64\n",
      "PCT_LACCESS_NHPI15        3124 non-null float64\n",
      "PCT_LACCESS_MULTIR15      3124 non-null float64\n",
      "PCH_GROCPTH_09_14         3128 non-null float64\n",
      "PCH_SUPERCPTH_09_14       3004 non-null float64\n",
      "PCH_CONVSPTH_09_14        3124 non-null float64\n",
      "PCH_SPECSPTH_09_14        2955 non-null float64\n",
      "PCH_SNAPSPTH_12_16        3138 non-null float64\n",
      "PCH_WICSPTH_08_12         3124 non-null float64\n",
      "PCH_FFRPTH_09_14          3097 non-null float64\n",
      "PCH_FSRPTH_09_14          3112 non-null float64\n",
      "PC_FFRSALES12             3143 non-null float64\n",
      "PC_FSRSALES12             3143 non-null float64\n",
      "PCH_REDEMP_SNAPS_12_16    2867 non-null float64\n",
      "PCH_SNAP_12_16            3143 non-null float64\n",
      "PCT_SNAP16                3143 non-null float64\n",
      "PCH_PC_SNAPBEN_10_15      3057 non-null float64\n",
      "SNAP_PART_RATE13          3143 non-null float64\n",
      "SNAP_OAPP16               3143 non-null float64\n",
      "SNAP_CAP16                3143 non-null int64\n",
      "SNAP_BBCE16               3143 non-null int64\n",
      "SNAP_REPORTSIMPLE16       3143 non-null int64\n",
      "PCH_NSLP_09_15            3143 non-null float64\n",
      "PCT_FREE_LUNCH14          2901 non-null float64\n",
      "PCT_REDUCED_LUNCH14       2901 non-null float64\n",
      "PCH_SBP_09_15             3143 non-null float64\n",
      "PCH_SFSP_09_15            3143 non-null float64\n",
      "PCH_WIC_09_15             3143 non-null float64\n",
      "PCH_CACFP_09_15           3143 non-null float64\n",
      "CH_FOODINSEC_12_15        3143 non-null float64\n",
      "CH_VLFOODSEC_12_15        3143 non-null float64\n",
      "FOODINSEC_CHILD_03_11     3143 non-null float64\n",
      "MILK_PRICE10              3109 non-null float64\n",
      "SODA_PRICE10              3109 non-null float64\n",
      "MILK_SODA_PRICE10         3109 non-null float64\n",
      "SODATAX_STORES14          3143 non-null float64\n",
      "SODATAX_VENDM14           3143 non-null float64\n",
      "CHIPSTAX_VENDM14          3143 non-null float64\n",
      "FOOD_TAX14                3143 non-null float64\n",
      "PCT_LOCLFARM12            3075 non-null float64\n",
      "DIRSALES12                2901 non-null float64\n",
      "PC_DIRSALES12             2900 non-null float64\n",
      "FMRKTPTH16                3143 non-null float64\n",
      "VEG_FARMS12               3080 non-null float64\n",
      "FRESHVEG_FARMS12          3080 non-null float64\n",
      "ORCHARD_FARMS12           3080 non-null float64\n",
      "BERRY_FARMS12             3080 non-null float64\n",
      "PCH_SLHOUSE_07_12         2977 non-null float64\n",
      "GHVEG_FARMS12             3080 non-null float64\n",
      "FOODHUB16                 3143 non-null int64\n",
      "CSA12                     3080 non-null float64\n",
      "AGRITRSM_OPS12            3080 non-null float64\n",
      "FARM_TO_SCHOOL13          2935 non-null float64\n",
      "PCT_DIABETES_ADULTS13     3142 non-null float64\n",
      "PCT_OBESE_ADULTS13        3142 non-null float64\n",
      "PCH_RECFACPTH_09_14       3020 non-null float64\n",
      "PCT_NHWHITE10             3143 non-null float64\n",
      "PCT_NHBLACK10             3143 non-null float64\n",
      "PCT_HISP10                3143 non-null float64\n",
      "PCT_NHASIAN10             3143 non-null float64\n",
      "PCT_NHNA10                3143 non-null float64\n",
      "PCT_NHPI10                3143 non-null float64\n",
      "PCT_65OLDER10             3143 non-null float64\n",
      "PCT_18YOUNGER10           3143 non-null float64\n",
      "MEDHHINC15                3139 non-null float64\n",
      "POVRATE15                 3139 non-null float64\n",
      "PERPOV10                  3143 non-null int64\n",
      "CHILDPOVRATE15            3139 non-null float64\n",
      "PERCHLDPOV10              3143 non-null int64\n",
      "METRO13                   3143 non-null int64\n",
      "POPLOSS10                 3141 non-null float64\n",
      "dtypes: float64(74), int64(7), object(2)\n",
      "memory usage: 2.0+ MB\n",
      "None\n"
     ]
    }
   ],
   "source": [
    "print (df_tp_later.info())"
   ]
  },
  {
   "cell_type": "code",
   "execution_count": 121,
   "metadata": {},
   "outputs": [],
   "source": [
    "df_tp_later.to_csv(Overall_folder+'Datasets/Food_atlas/df_tp_new.csv')"
   ]
  },
  {
   "cell_type": "markdown",
   "metadata": {},
   "source": [
    "Integrate CDC Datasets together"
   ]
  },
  {
   "cell_type": "code",
   "execution_count": null,
   "metadata": {},
   "outputs": [],
   "source": [
    "import pandas as pd\n",
    "dfs=list()\n",
    "sub_folder=Overall_folder+'/Datasets/CDC/'\n",
    "filenames=['Diabetes_prevalence',\n",
    "           'Obesity_prevalence',\n",
    "           'Physical_inactive_prevalence']"
   ]
  },
  {
   "cell_type": "code",
   "execution_count": null,
   "metadata": {
    "scrolled": true
   },
   "outputs": [],
   "source": [
    "for filename in filenames:\n",
    "    filepath=sub_folder+filename+\".csv\"   \n",
    "    df=pd.read_csv(filepath,index_col='FIPS')\n",
    "    \n",
    "    \n",
    "    if 'Diabetes' in filename:\n",
    "        df.columns=df.columns.astype(str)+'_db'\n",
    "    elif 'Obesity' in filename:\n",
    "        df.columns=df.columns.astype(str)+'_ob'\n",
    "    elif 'Physical' in filename:\n",
    "        df.columns=df.columns.astype(str)+'_phy'\n",
    "    dfs.append(df)\n",
    "#merge datasets\n"
   ]
  },
  {
   "cell_type": "code",
   "execution_count": null,
   "metadata": {},
   "outputs": [],
   "source": [
    "CDC_merge=pd.concat(dfs, join='outer', axis=1)"
   ]
  },
  {
   "cell_type": "code",
   "execution_count": null,
   "metadata": {},
   "outputs": [],
   "source": [
    "CDC_merge.info()"
   ]
  },
  {
   "cell_type": "code",
   "execution_count": null,
   "metadata": {},
   "outputs": [],
   "source": [
    "#Find out the non numeric entries in CDC_merge\n",
    "for c in CDC_merge.columns:\n",
    "    num_non_numeric=sum(CDC_merge.applymap(lambda x: isinstance(x, (int, float)))[c])\n",
    "    if num_non_numeric>0:\n",
    "        print(c, num_non_numeric, CDC_merge[pd.to_numeric(CDC_merge[c], errors='coerce').isnull()])"
   ]
  },
  {
   "cell_type": "code",
   "execution_count": null,
   "metadata": {},
   "outputs": [],
   "source": [
    "#It turns out that some entries are 'No Data' or NaN, so I replace the 'No Data' with NaN values\n",
    "CDC_merge=CDC_merge.replace('No Data', np.nan)\n",
    "CDC_merge=CDC_merge.astype(float)"
   ]
  },
  {
   "cell_type": "code",
   "execution_count": null,
   "metadata": {},
   "outputs": [],
   "source": [
    "#now check the CDC_merge\n",
    "CDC_merge.info()"
   ]
  },
  {
   "cell_type": "code",
   "execution_count": 122,
   "metadata": {},
   "outputs": [],
   "source": [
    "#choose the latest prevalence of diabetes, obesity and physical inactivity to merge with df_tp \n",
    "combined=pd.concat([df_tp_later, CDC_merge[['2013_db','2013_ob','2013_phy']]], join='inner',axis=1)"
   ]
  },
  {
   "cell_type": "code",
   "execution_count": 123,
   "metadata": {},
   "outputs": [],
   "source": [
    "combined.rename(columns={'2013_db': 'prevalence of diabetes', '2013_ob': 'prevalence of obesity', '2013_phy':'prevalence of physical inactivity'}, inplace=True)"
   ]
  },
  {
   "cell_type": "markdown",
   "metadata": {},
   "source": [
    "Integrating geography dataset"
   ]
  },
  {
   "cell_type": "code",
   "execution_count": null,
   "metadata": {},
   "outputs": [],
   "source": [
    "df_rbcodes=pd.read_csv(Overall_folder+'Datasets/geography/FIPS_RUCC_Code_2013.csv', index_col='FIPS')"
   ]
  },
  {
   "cell_type": "code",
   "execution_count": null,
   "metadata": {},
   "outputs": [],
   "source": [
    "df_rbcodes.info()"
   ]
  },
  {
   "cell_type": "code",
   "execution_count": null,
   "metadata": {},
   "outputs": [],
   "source": [
    "combined=pd.concat([combined, df_rbcodes[['RUCC_2013']]], join='inner',axis=1)"
   ]
  },
  {
   "cell_type": "code",
   "execution_count": null,
   "metadata": {},
   "outputs": [],
   "source": [
    "combined.info()"
   ]
  },
  {
   "cell_type": "code",
   "execution_count": null,
   "metadata": {},
   "outputs": [],
   "source": [
    "df_divisions=pd.read_csv(Overall_folder+'Datasets/geography/state_region.csv')"
   ]
  },
  {
   "cell_type": "code",
   "execution_count": null,
   "metadata": {},
   "outputs": [],
   "source": [
    "df_divisions.info()"
   ]
  },
  {
   "cell_type": "code",
   "execution_count": null,
   "metadata": {},
   "outputs": [],
   "source": [
    "division_dict=df_divisions.set_index('State Code').to_dict()"
   ]
  },
  {
   "cell_type": "code",
   "execution_count": null,
   "metadata": {},
   "outputs": [],
   "source": [
    "division_dict"
   ]
  },
  {
   "cell_type": "code",
   "execution_count": 124,
   "metadata": {},
   "outputs": [],
   "source": [
    "combined['Division']=combined['State'].map(division_dict['Division'])\n",
    "combined['Region']=combined['State'].map(division_dict['Region'])"
   ]
  },
  {
   "cell_type": "code",
   "execution_count": 125,
   "metadata": {
    "collapsed": true
   },
   "outputs": [
    {
     "data": {
      "text/html": [
       "<div>\n",
       "<style>\n",
       "    .dataframe thead tr:only-child th {\n",
       "        text-align: right;\n",
       "    }\n",
       "\n",
       "    .dataframe thead th {\n",
       "        text-align: left;\n",
       "    }\n",
       "\n",
       "    .dataframe tbody tr th {\n",
       "        vertical-align: top;\n",
       "    }\n",
       "</style>\n",
       "<table border=\"1\" class=\"dataframe\">\n",
       "  <thead>\n",
       "    <tr style=\"text-align: right;\">\n",
       "      <th></th>\n",
       "      <th>State</th>\n",
       "      <th>County</th>\n",
       "      <th>PCT_LACCESS_POP15</th>\n",
       "      <th>PCT_LACCESS_LOWI15</th>\n",
       "      <th>PCT_LACCESS_HHNV15</th>\n",
       "      <th>PCT_LACCESS_SNAP15</th>\n",
       "      <th>PCT_LACCESS_CHILD15</th>\n",
       "      <th>PCT_LACCESS_SENIORS15</th>\n",
       "      <th>PCT_LACCESS_WHITE15</th>\n",
       "      <th>PCT_LACCESS_BLACK15</th>\n",
       "      <th>...</th>\n",
       "      <th>PCT_65OLDER10</th>\n",
       "      <th>PCT_18YOUNGER10</th>\n",
       "      <th>MEDHHINC15</th>\n",
       "      <th>POVRATE15</th>\n",
       "      <th>CHILDPOVRATE15</th>\n",
       "      <th>prevalence of diabetes</th>\n",
       "      <th>prevalence of obesity</th>\n",
       "      <th>prevalence of physical inactivity</th>\n",
       "      <th>Division</th>\n",
       "      <th>Region</th>\n",
       "    </tr>\n",
       "    <tr>\n",
       "      <th>FIPS</th>\n",
       "      <th></th>\n",
       "      <th></th>\n",
       "      <th></th>\n",
       "      <th></th>\n",
       "      <th></th>\n",
       "      <th></th>\n",
       "      <th></th>\n",
       "      <th></th>\n",
       "      <th></th>\n",
       "      <th></th>\n",
       "      <th></th>\n",
       "      <th></th>\n",
       "      <th></th>\n",
       "      <th></th>\n",
       "      <th></th>\n",
       "      <th></th>\n",
       "      <th></th>\n",
       "      <th></th>\n",
       "      <th></th>\n",
       "      <th></th>\n",
       "      <th></th>\n",
       "    </tr>\n",
       "  </thead>\n",
       "  <tbody>\n",
       "    <tr>\n",
       "      <th>1001</th>\n",
       "      <td>AL</td>\n",
       "      <td>Autauga</td>\n",
       "      <td>32.062255</td>\n",
       "      <td>11.991125</td>\n",
       "      <td>3.351332</td>\n",
       "      <td>4.608749</td>\n",
       "      <td>8.460485</td>\n",
       "      <td>3.996279</td>\n",
       "      <td>23.163613</td>\n",
       "      <td>7.726582</td>\n",
       "      <td>...</td>\n",
       "      <td>11.995382</td>\n",
       "      <td>26.777959</td>\n",
       "      <td>56580.0</td>\n",
       "      <td>12.7</td>\n",
       "      <td>18.8</td>\n",
       "      <td>13.0</td>\n",
       "      <td>34.1</td>\n",
       "      <td>28.6</td>\n",
       "      <td>East South Central</td>\n",
       "      <td>South</td>\n",
       "    </tr>\n",
       "    <tr>\n",
       "      <th>1003</th>\n",
       "      <td>AL</td>\n",
       "      <td>Baldwin</td>\n",
       "      <td>16.767489</td>\n",
       "      <td>5.424427</td>\n",
       "      <td>1.905114</td>\n",
       "      <td>1.298900</td>\n",
       "      <td>3.844936</td>\n",
       "      <td>3.061840</td>\n",
       "      <td>13.981393</td>\n",
       "      <td>1.942757</td>\n",
       "      <td>...</td>\n",
       "      <td>16.771185</td>\n",
       "      <td>22.987408</td>\n",
       "      <td>52387.0</td>\n",
       "      <td>12.9</td>\n",
       "      <td>19.6</td>\n",
       "      <td>10.4</td>\n",
       "      <td>27.4</td>\n",
       "      <td>22.3</td>\n",
       "      <td>East South Central</td>\n",
       "      <td>South</td>\n",
       "    </tr>\n",
       "    <tr>\n",
       "      <th>1005</th>\n",
       "      <td>AL</td>\n",
       "      <td>Barbour</td>\n",
       "      <td>22.105560</td>\n",
       "      <td>10.739667</td>\n",
       "      <td>4.329378</td>\n",
       "      <td>4.303147</td>\n",
       "      <td>3.758341</td>\n",
       "      <td>3.001695</td>\n",
       "      <td>10.302934</td>\n",
       "      <td>9.881360</td>\n",
       "      <td>...</td>\n",
       "      <td>14.236807</td>\n",
       "      <td>21.906982</td>\n",
       "      <td>31433.0</td>\n",
       "      <td>32.0</td>\n",
       "      <td>45.2</td>\n",
       "      <td>18.4</td>\n",
       "      <td>44.4</td>\n",
       "      <td>31.8</td>\n",
       "      <td>East South Central</td>\n",
       "      <td>South</td>\n",
       "    </tr>\n",
       "    <tr>\n",
       "      <th>1007</th>\n",
       "      <td>AL</td>\n",
       "      <td>Bibb</td>\n",
       "      <td>4.230324</td>\n",
       "      <td>2.601627</td>\n",
       "      <td>2.821427</td>\n",
       "      <td>0.676710</td>\n",
       "      <td>1.015242</td>\n",
       "      <td>0.600865</td>\n",
       "      <td>2.358770</td>\n",
       "      <td>1.828933</td>\n",
       "      <td>...</td>\n",
       "      <td>12.681650</td>\n",
       "      <td>22.696923</td>\n",
       "      <td>40767.0</td>\n",
       "      <td>22.2</td>\n",
       "      <td>29.3</td>\n",
       "      <td>14.8</td>\n",
       "      <td>40.3</td>\n",
       "      <td>33.9</td>\n",
       "      <td>East South Central</td>\n",
       "      <td>South</td>\n",
       "    </tr>\n",
       "    <tr>\n",
       "      <th>1009</th>\n",
       "      <td>AL</td>\n",
       "      <td>Blount</td>\n",
       "      <td>6.497380</td>\n",
       "      <td>2.880150</td>\n",
       "      <td>3.336414</td>\n",
       "      <td>0.812727</td>\n",
       "      <td>1.588720</td>\n",
       "      <td>0.882583</td>\n",
       "      <td>5.909147</td>\n",
       "      <td>0.167201</td>\n",
       "      <td>...</td>\n",
       "      <td>14.722096</td>\n",
       "      <td>24.608353</td>\n",
       "      <td>50487.0</td>\n",
       "      <td>14.7</td>\n",
       "      <td>22.2</td>\n",
       "      <td>14.1</td>\n",
       "      <td>34.6</td>\n",
       "      <td>28.0</td>\n",
       "      <td>East South Central</td>\n",
       "      <td>South</td>\n",
       "    </tr>\n",
       "  </tbody>\n",
       "</table>\n",
       "<p>5 rows × 65 columns</p>\n",
       "</div>"
      ],
      "text/plain": [
       "     State   County  PCT_LACCESS_POP15  PCT_LACCESS_LOWI15  \\\n",
       "FIPS                                                         \n",
       "1001    AL  Autauga          32.062255           11.991125   \n",
       "1003    AL  Baldwin          16.767489            5.424427   \n",
       "1005    AL  Barbour          22.105560           10.739667   \n",
       "1007    AL     Bibb           4.230324            2.601627   \n",
       "1009    AL   Blount           6.497380            2.880150   \n",
       "\n",
       "      PCT_LACCESS_HHNV15  PCT_LACCESS_SNAP15  PCT_LACCESS_CHILD15  \\\n",
       "FIPS                                                                \n",
       "1001            3.351332            4.608749             8.460485   \n",
       "1003            1.905114            1.298900             3.844936   \n",
       "1005            4.329378            4.303147             3.758341   \n",
       "1007            2.821427            0.676710             1.015242   \n",
       "1009            3.336414            0.812727             1.588720   \n",
       "\n",
       "      PCT_LACCESS_SENIORS15  PCT_LACCESS_WHITE15  PCT_LACCESS_BLACK15   ...    \\\n",
       "FIPS                                                                    ...     \n",
       "1001               3.996279            23.163613             7.726582   ...     \n",
       "1003               3.061840            13.981393             1.942757   ...     \n",
       "1005               3.001695            10.302934             9.881360   ...     \n",
       "1007               0.600865             2.358770             1.828933   ...     \n",
       "1009               0.882583             5.909147             0.167201   ...     \n",
       "\n",
       "      PCT_65OLDER10  PCT_18YOUNGER10  MEDHHINC15  POVRATE15  CHILDPOVRATE15  \\\n",
       "FIPS                                                                          \n",
       "1001      11.995382        26.777959     56580.0       12.7            18.8   \n",
       "1003      16.771185        22.987408     52387.0       12.9            19.6   \n",
       "1005      14.236807        21.906982     31433.0       32.0            45.2   \n",
       "1007      12.681650        22.696923     40767.0       22.2            29.3   \n",
       "1009      14.722096        24.608353     50487.0       14.7            22.2   \n",
       "\n",
       "      prevalence of diabetes  prevalence of obesity  \\\n",
       "FIPS                                                  \n",
       "1001                    13.0                   34.1   \n",
       "1003                    10.4                   27.4   \n",
       "1005                    18.4                   44.4   \n",
       "1007                    14.8                   40.3   \n",
       "1009                    14.1                   34.6   \n",
       "\n",
       "      prevalence of physical inactivity            Division  Region  \n",
       "FIPS                                                                 \n",
       "1001                               28.6  East South Central   South  \n",
       "1003                               22.3  East South Central   South  \n",
       "1005                               31.8  East South Central   South  \n",
       "1007                               33.9  East South Central   South  \n",
       "1009                               28.0  East South Central   South  \n",
       "\n",
       "[5 rows x 65 columns]"
      ]
     },
     "execution_count": 125,
     "metadata": {},
     "output_type": "execute_result"
    }
   ],
   "source": [
    "combined.head(5)"
   ]
  },
  {
   "cell_type": "code",
   "execution_count": 126,
   "metadata": {},
   "outputs": [],
   "source": [
    "combined.to_csv(Overall_folder+'Datasets/Combined_data_new.csv')"
   ]
  },
  {
   "cell_type": "code",
   "execution_count": null,
   "metadata": {},
   "outputs": [],
   "source": []
  }
 ],
 "metadata": {
  "kernelspec": {
   "display_name": "Python 3",
   "language": "python",
   "name": "python3"
  },
  "language_info": {
   "codemirror_mode": {
    "name": "ipython",
    "version": 3
   },
   "file_extension": ".py",
   "mimetype": "text/x-python",
   "name": "python",
   "nbconvert_exporter": "python",
   "pygments_lexer": "ipython3",
   "version": "3.6.3"
  }
 },
 "nbformat": 4,
 "nbformat_minor": 2
}
