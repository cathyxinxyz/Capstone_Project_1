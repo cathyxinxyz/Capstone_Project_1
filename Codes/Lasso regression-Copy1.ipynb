{
 "cells": [
  {
   "cell_type": "code",
   "execution_count": 36,
   "metadata": {},
   "outputs": [],
   "source": [
    "from sklearn.linear_model import Lasso\n",
    "import numpy as np\n",
    "import pandas as pd"
   ]
  },
  {
   "cell_type": "code",
   "execution_count": 37,
   "metadata": {},
   "outputs": [],
   "source": [
    "url='https://raw.githubusercontent.com/cathyxinxyz/Capstone_Project_1/master/Datasets/Combined_data.csv'\n",
    "df=pd.read_csv(url,index_col='FIPS',encoding=\"ISO-8859-1\")"
   ]
  },
  {
   "cell_type": "code",
   "execution_count": 38,
   "metadata": {},
   "outputs": [],
   "source": [
    "from sklearn import preprocessing\n",
    "from pandas.api.types import is_string_dtype\n",
    "from pandas.api.types import is_numeric_dtype\n",
    "\n",
    "numeric_columns=[c for c in df.columns if is_numeric_dtype(df[c])]\n",
    "df=df[numeric_columns].dropna()\n",
    "df=df[df.columns.difference(['Adult_ob','Adult_db'])]"
   ]
  },
  {
   "cell_type": "code",
   "execution_count": 39,
   "metadata": {
    "scrolled": true
   },
   "outputs": [
    {
     "name": "stdout",
     "output_type": "stream",
     "text": [
      "<class 'pandas.core.frame.DataFrame'>\n",
      "Int64Index: 3098 entries, 1001 to 56045\n",
      "Data columns (total 29 columns):\n",
      "<18                                  3098 non-null float64\n",
      ">=65                                 3098 non-null float64\n",
      "American Indian or Alaska Native     3098 non-null float64\n",
      "Asian                                3098 non-null float64\n",
      "Assistance                           3098 non-null float64\n",
      "Black                                3098 non-null float64\n",
      "Convenience                          3098 non-null float64\n",
      "Farm                                 3098 non-null float64\n",
      "Fast_food                            3098 non-null float64\n",
      "Full_service                         3098 non-null float64\n",
      "Grocery                              3098 non-null float64\n",
      "Hawaiian or Pacific Islander         3098 non-null float64\n",
      "Hispanic                             3098 non-null float64\n",
      "Low_Access_Child                     3098 non-null float64\n",
      "Low_Access_Overall                   3098 non-null float64\n",
      "Low_Access_Seniors                   3098 non-null float64\n",
      "Low_Access_low_income                3098 non-null float64\n",
      "Low_insecurity                       3098 non-null float64\n",
      "Poverty_rate                         3098 non-null float64\n",
      "Recreation_facility                  3098 non-null float64\n",
      "SNAP_store                           3098 non-null float64\n",
      "Specialized                          3098 non-null float64\n",
      "Supercenter                          3098 non-null float64\n",
      "Very_low_insecurity                  3098 non-null float64\n",
      "WIC_store                            3098 non-null float64\n",
      "White                                3098 non-null float64\n",
      "prevalence of diabetes               3098 non-null float64\n",
      "prevalence of obesity                3098 non-null float64\n",
      "prevalence of physical inactivity    3098 non-null float64\n",
      "dtypes: float64(29)\n",
      "memory usage: 726.1 KB\n"
     ]
    }
   ],
   "source": [
    "df.info()"
   ]
  },
  {
   "cell_type": "code",
   "execution_count": 40,
   "metadata": {},
   "outputs": [],
   "source": [
    "features=list(df.columns.difference(['prevalence of diabetes',\n",
    "                                            'prevalence of obesity']))"
   ]
  },
  {
   "cell_type": "code",
   "execution_count": 41,
   "metadata": {},
   "outputs": [],
   "source": [
    "for f in features:\n",
    "    df[f+'_2']=df[f].apply((lambda x: x**(2)))\n",
    "    df[f+'_3']=df[f].apply((lambda x: x**(3)))"
   ]
  },
  {
   "cell_type": "code",
   "execution_count": 42,
   "metadata": {},
   "outputs": [],
   "source": [
    "normed_data=preprocessing.scale(df)\n",
    "normed_df=pd.DataFrame(normed_data, index=df.index, columns=df.columns)"
   ]
  },
  {
   "cell_type": "code",
   "execution_count": 44,
   "metadata": {},
   "outputs": [
    {
     "data": {
      "text/plain": [
       "Index(['<18', '>=65', 'American Indian or Alaska Native', 'Asian',\n",
       "       'Assistance', 'Black', 'Convenience', 'Farm', 'Fast_food',\n",
       "       'Full_service', 'Grocery', 'Hawaiian or Pacific Islander', 'Hispanic',\n",
       "       'Low_Access_Child', 'Low_Access_Overall', 'Low_Access_Seniors',\n",
       "       'Low_Access_low_income', 'Low_insecurity', 'Poverty_rate',\n",
       "       'Recreation_facility', 'SNAP_store', 'Specialized', 'Supercenter',\n",
       "       'Very_low_insecurity', 'WIC_store', 'White', 'prevalence of diabetes',\n",
       "       'prevalence of obesity', 'prevalence of physical inactivity', '<18_2',\n",
       "       '<18_3', '>=65_2', '>=65_3', 'American Indian or Alaska Native_2',\n",
       "       'American Indian or Alaska Native_3', 'Asian_2', 'Asian_3',\n",
       "       'Assistance_2', 'Assistance_3', 'Black_2', 'Black_3', 'Convenience_2',\n",
       "       'Convenience_3', 'Farm_2', 'Farm_3', 'Fast_food_2', 'Fast_food_3',\n",
       "       'Full_service_2', 'Full_service_3', 'Grocery_2', 'Grocery_3',\n",
       "       'Hawaiian or Pacific Islander_2', 'Hawaiian or Pacific Islander_3',\n",
       "       'Hispanic_2', 'Hispanic_3', 'Low_Access_Child_2', 'Low_Access_Child_3',\n",
       "       'Low_Access_Overall_2', 'Low_Access_Overall_3', 'Low_Access_Seniors_2',\n",
       "       'Low_Access_Seniors_3', 'Low_Access_low_income_2',\n",
       "       'Low_Access_low_income_3', 'Low_insecurity_2', 'Low_insecurity_3',\n",
       "       'Poverty_rate_2', 'Poverty_rate_3', 'Recreation_facility_2',\n",
       "       'Recreation_facility_3', 'SNAP_store_2', 'SNAP_store_3',\n",
       "       'Specialized_2', 'Specialized_3', 'Supercenter_2', 'Supercenter_3',\n",
       "       'Very_low_insecurity_2', 'Very_low_insecurity_3', 'WIC_store_2',\n",
       "       'WIC_store_3', 'White_2', 'White_3',\n",
       "       'prevalence of physical inactivity_2',\n",
       "       'prevalence of physical inactivity_3'],\n",
       "      dtype='object')"
      ]
     },
     "execution_count": 44,
     "metadata": {},
     "output_type": "execute_result"
    }
   ],
   "source": [
    "normed_df.columns"
   ]
  },
  {
   "cell_type": "code",
   "execution_count": 47,
   "metadata": {},
   "outputs": [],
   "source": [
    "from sklearn.model_selection import train_test_split\n",
    "from sklearn import svm\n",
    "\n",
    "features=list(normed_df.columns.difference(['prevalence of diabetes',\n",
    "                                            'prevalence of obesity']))\n",
    "\n",
    "X=normed_df[features]\n",
    "y=normed_df['prevalence of diabetes']\n",
    "X_train, X_test, y_train, y_test = train_test_split(X, y, test_size=0.25, random_state=0)"
   ]
  },
  {
   "cell_type": "code",
   "execution_count": 48,
   "metadata": {},
   "outputs": [
    {
     "name": "stdout",
     "output_type": "stream",
     "text": [
      "(2323, 81) (775, 81)\n"
     ]
    }
   ],
   "source": [
    "print (X_train.shape, X_test.shape)"
   ]
  },
  {
   "cell_type": "code",
   "execution_count": null,
   "metadata": {},
   "outputs": [],
   "source": []
  },
  {
   "cell_type": "code",
   "execution_count": 49,
   "metadata": {},
   "outputs": [
    {
     "ename": "NameError",
     "evalue": "name 'alpha' is not defined",
     "output_type": "error",
     "traceback": [
      "\u001b[1;31m---------------------------------------------------------------------------\u001b[0m",
      "\u001b[1;31mNameError\u001b[0m                                 Traceback (most recent call last)",
      "\u001b[1;32m<ipython-input-49-50df1fdb3979>\u001b[0m in \u001b[0;36m<module>\u001b[1;34m()\u001b[0m\n\u001b[1;32m----> 1\u001b[1;33m \u001b[0mlassoreg\u001b[0m \u001b[1;33m=\u001b[0m \u001b[0mLasso\u001b[0m\u001b[1;33m(\u001b[0m\u001b[0malpha\u001b[0m\u001b[1;33m=\u001b[0m\u001b[0malpha\u001b[0m\u001b[1;33m,\u001b[0m\u001b[0mnormalize\u001b[0m\u001b[1;33m=\u001b[0m\u001b[1;32mFalse\u001b[0m\u001b[1;33m,\u001b[0m \u001b[0mmax_iter\u001b[0m\u001b[1;33m=\u001b[0m\u001b[1;36m1e5\u001b[0m\u001b[1;33m)\u001b[0m\u001b[1;33m\u001b[0m\u001b[0m\n\u001b[0m\u001b[0;32m      2\u001b[0m \u001b[0mlassoreg\u001b[0m\u001b[1;33m.\u001b[0m\u001b[0mfit\u001b[0m\u001b[1;33m(\u001b[0m\u001b[0mdata\u001b[0m\u001b[1;33m[\u001b[0m\u001b[0mpredictors\u001b[0m\u001b[1;33m]\u001b[0m\u001b[1;33m,\u001b[0m\u001b[0mdata\u001b[0m\u001b[1;33m[\u001b[0m\u001b[1;34m'y'\u001b[0m\u001b[1;33m]\u001b[0m\u001b[1;33m)\u001b[0m\u001b[1;33m\u001b[0m\u001b[0m\n\u001b[0;32m      3\u001b[0m \u001b[0mclf\u001b[0m \u001b[1;33m=\u001b[0m \u001b[0mGridSearchCV\u001b[0m\u001b[1;33m(\u001b[0m\u001b[0mlasso\u001b[0m\u001b[1;33m,\u001b[0m \u001b[0mtuned_parameters\u001b[0m\u001b[1;33m,\u001b[0m \u001b[0mcv\u001b[0m\u001b[1;33m=\u001b[0m\u001b[0mn_folds\u001b[0m\u001b[1;33m,\u001b[0m \u001b[0mrefit\u001b[0m\u001b[1;33m=\u001b[0m\u001b[1;32mFalse\u001b[0m\u001b[1;33m)\u001b[0m\u001b[1;33m\u001b[0m\u001b[0m\n\u001b[0;32m      4\u001b[0m \u001b[0mclf\u001b[0m\u001b[1;33m.\u001b[0m\u001b[0mfit\u001b[0m\u001b[1;33m(\u001b[0m\u001b[0mX\u001b[0m\u001b[1;33m,\u001b[0m \u001b[0my\u001b[0m\u001b[1;33m)\u001b[0m\u001b[1;33m\u001b[0m\u001b[0m\n",
      "\u001b[1;31mNameError\u001b[0m: name 'alpha' is not defined"
     ]
    }
   ],
   "source": [
    "for alpha in \n",
    "lassoreg = Lasso(alpha=alpha,normalize=False, max_iter=1e5)\n",
    "lassoreg.fit(X_train,y_train)\n",
    "clf = GridSearchCV(lasso, tuned_parameters, cv=n_folds, refit=False)\n",
    "clf.fit(X, y)"
   ]
  },
  {
   "cell_type": "code",
   "execution_count": null,
   "metadata": {},
   "outputs": [],
   "source": []
  }
 ],
 "metadata": {
  "kernelspec": {
   "display_name": "Python 3",
   "language": "python",
   "name": "python3"
  },
  "language_info": {
   "codemirror_mode": {
    "name": "ipython",
    "version": 3
   },
   "file_extension": ".py",
   "mimetype": "text/x-python",
   "name": "python",
   "nbconvert_exporter": "python",
   "pygments_lexer": "ipython3",
   "version": "3.6.3"
  }
 },
 "nbformat": 4,
 "nbformat_minor": 2
}
