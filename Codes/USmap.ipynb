{
 "cells": [
  {
   "cell_type": "markdown",
   "metadata": {},
   "source": [
    "Codes to plot the map of the variables by US county"
   ]
  },
  {
   "cell_type": "code",
   "execution_count": 14,
   "metadata": {},
   "outputs": [],
   "source": [
    "#load all libraries\n",
    "library(choroplethr)\n",
    "library(choroplethrMaps)\n",
    "require(RCurl)\n",
    "library(plyr)\n",
    "library(ggplot2)\n",
    "library(dplyr)\n",
    "library(reshape2)\n",
    "library(gridExtra)\n",
    "library(knitr)\n",
    "library(repr)"
   ]
  },
  {
   "cell_type": "code",
   "execution_count": 15,
   "metadata": {},
   "outputs": [
    {
     "ename": "ERROR",
     "evalue": "Error in parse(text = x, srcfile = src): <text>:3:10: unexpected symbol\n2: \n3: function Map_list\n            ^\n",
     "output_type": "error",
     "traceback": [
      "Error in parse(text = x, srcfile = src): <text>:3:10: unexpected symbol\n2: \n3: function Map_list\n            ^\nTraceback:\n"
     ]
    }
   ],
   "source": [
    "#construct a function that return the list of maps of variables at US county level\n",
    "\n",
    "function Map_list(var_list, df, var_info){\n",
    "    map_plot_list<-list()\n",
    "    for (n in seq (1:length(var_list))) {\n",
    "      var=var_list[[n]]\n",
    "      print (var)\n",
    "      df_map<-df[,c(\"FIPS\",var)]\n",
    "      df_map<-na.omit(df_map)\n",
    "\n",
    "      colnames(df_map)<-c(\"region\",\"value\")\n",
    "\n",
    "      title<-paste(var_info[var, ]$Category.Name, \n",
    "                   var_info[var, ]$Subcategory.Name, \n",
    "                   var_info[var, ]$Year,\n",
    "                   sep=\"\\n\")\n",
    "\n",
    "      cc=county_choropleth(df_map,\n",
    "                        title =title, \n",
    "                        legend = var_info[var, ]$Units)\n",
    "      map_plot_list[[n]]<-cc\n",
    "    }\n",
    "    return (map_plot_list)\n",
    "}"
   ]
  },
  {
   "cell_type": "code",
   "execution_count": null,
   "metadata": {},
   "outputs": [],
   "source": [
    "url='https://raw.githubusercontent.com/cathyxinxyz/Capstone_Project_1/master/Datasets/Food_atlas/variable_info.csv'\n",
    "var_info <-read.csv(text=getURL(url), sep=',',header=T)\n",
    "print (colnames(var_info))\n",
    "var_info<-var_info[,c(\"Category.Name\",\"Sub_subcategory.Name\",\"Year\",\"Variable.Code\",\"Units\")]\n",
    "#rownames(var_info) <- var_info$Variable.Code"
   ]
  },
  {
   "cell_type": "code",
   "execution_count": null,
   "metadata": {},
   "outputs": [],
   "source": [
    "colnames(var_info)<-c(\"Category\",\"Subcategory\",\"Year\",\"Variable\",\"Units\")"
   ]
  },
  {
   "cell_type": "code",
   "execution_count": null,
   "metadata": {},
   "outputs": [],
   "source": [
    "rownames(var_info) <- var_info$Variable"
   ]
  },
  {
   "cell_type": "code",
   "execution_count": null,
   "metadata": {},
   "outputs": [],
   "source": []
  },
  {
   "cell_type": "code",
   "execution_count": null,
   "metadata": {},
   "outputs": [],
   "source": [
    "url='https://raw.githubusercontent.com/cathyxinxyz/Capstone_Project_1/master/Datasets/Food_atlas/df_tp_1.csv'\n",
    "df_food <-read.csv(text=getURL(url), sep=',',header=T)"
   ]
  },
  {
   "cell_type": "code",
   "execution_count": null,
   "metadata": {},
   "outputs": [],
   "source": [
    "url='https://raw.githubusercontent.com/cathyxinxyz/Capstone_Project_1/master/Datasets/CDC/Combined.csv'\n",
    "df_cdc <-read.csv(text=getURL(url), sep=',',header=T)"
   ]
  },
  {
   "cell_type": "code",
   "execution_count": null,
   "metadata": {},
   "outputs": [],
   "source": []
  },
  {
   "cell_type": "code",
   "execution_count": null,
   "metadata": {},
   "outputs": [],
   "source": [
    "var_list<-colnames(df_food)\n",
    "plts=Map_list(var_list, df_food, var_info)"
   ]
  },
  {
   "cell_type": "code",
   "execution_count": null,
   "metadata": {},
   "outputs": [],
   "source": []
  },
  {
   "cell_type": "code",
   "execution_count": null,
   "metadata": {},
   "outputs": [],
   "source": [
    "#mapping variables that belong to ACCESS category"
   ]
  },
  {
   "cell_type": "code",
   "execution_count": 10,
   "metadata": {},
   "outputs": [
    {
     "ename": "ERROR",
     "evalue": "Error in eval(expr, envir, enclos): object 'plts' not found\n",
     "output_type": "error",
     "traceback": [
      "Error in eval(expr, envir, enclos): object 'plts' not found\nTraceback:\n"
     ]
    }
   ],
   "source": [
    "plts[[1]]\n",
    "plts[[2]]\n",
    "plts[[3]]\n",
    "plts[[4]]\n",
    "plts[[5]]\n",
    "plts[[6]]\n",
    "plts[[7]]\n",
    "plts[[8]]\n",
    "plts[[9]]\n",
    "plts[[10]]\n",
    "plts[[11]]\n",
    "plts[[12]]\n",
    "plts[[13]]"
   ]
  },
  {
   "cell_type": "code",
   "execution_count": null,
   "metadata": {},
   "outputs": [],
   "source": []
  },
  {
   "cell_type": "code",
   "execution_count": null,
   "metadata": {},
   "outputs": [],
   "source": []
  }
 ],
 "metadata": {
  "kernelspec": {
   "display_name": "R",
   "language": "R",
   "name": "ir"
  },
  "language_info": {
   "codemirror_mode": "r",
   "file_extension": ".r",
   "mimetype": "text/x-r-source",
   "name": "R",
   "pygments_lexer": "r",
   "version": "3.4.2"
  }
 },
 "nbformat": 4,
 "nbformat_minor": 2
}
