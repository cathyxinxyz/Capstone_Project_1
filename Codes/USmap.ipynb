{
 "cells": [
  {
   "cell_type": "code",
   "execution_count": 2,
   "metadata": {},
   "outputs": [],
   "source": [
    "library(plotly)\n",
    "library(maps)\n",
    "library(dplyr)\n",
    "library(ggplot2)\n",
    "\n"
   ]
  },
  {
   "cell_type": "code",
   "execution_count": null,
   "metadata": {},
   "outputs": [],
   "source": [
    "#var: variable to plot, df: dataframe to extract the variable with State full names as 'region' column \n",
    "# and County full names as 'subregion' column\n",
    "\n",
    "USmap_plot<-function (var, data, colors){ \n",
    "    county_df <- map_data(\"county\")\n",
    "    state_df <- map_data(\"state\")\n",
    "\n",
    "    county_df$subregion <- gsub(\" \", \"\", county_df$subregion)\n",
    "    \n",
    "    df<-subset(df, select = c(\"State\", \"County\", var))\n",
    "\n",
    "    choropleth <- inner_join(county_df, df, by = c(\"region\", \"subregion\"))\n",
    "    choropleth <- choropleth[!duplicated(choropleth$order), ]\n",
    "\n",
    "    p <- ggplot(choropleth, aes(long, lat, group = group)) +\n",
    "         geom_polygon(aes(fill = Division, text = paste(\"Division:\", Division)), \n",
    "         colour = alpha(\"white\", 1/2), size = 0.1)  +\n",
    "  geom_polygon(data = state_df, colour = \"white\", fill = NA) +\n",
    "  scale_fill_manual(values = colors)+\n",
    "  theme_void()\n",
    "\n",
    "\n",
    "    p <- ggplotly(p, tooltip = 'text') %>% \n",
    "      layout(\n",
    "        hovermode = 'x',\n",
    "        margin = list(\n",
    "          t = 20,\n",
    "          b = 20,\n",
    "          l = 20,\n",
    "          r = 20),\n",
    "        legend = list(\n",
    "          orientation = 'h',\n",
    "          x = 0.5,\n",
    "          y = 1.01,\n",
    "          xanchor = 'center'))\n",
    "\n",
    "    return (p)\n",
    "}"
   ]
  },
  {
   "cell_type": "code",
   "execution_count": null,
   "metadata": {},
   "outputs": [],
   "source": [
    "colors=c(\"East South Central\" = 'blue',\n",
    "         \"Pacific\" = 'red',\n",
    "         \"Mountain\"='yellow',\n",
    "         \"West South Central\"='pink',\n",
    "         \"New England\"='turquoise',\n",
    "         \"South Atlantic\"='orange',\n",
    "         \"East North Central\"='green',\n",
    "          \"West North Central\"=\"darkmagenta\",\n",
    "          \"Middle Atlantic\"=\"salmon\"\n",
    "  )\n",
    "\n"
   ]
  },
  {
   "cell_type": "code",
   "execution_count": 11,
   "metadata": {},
   "outputs": [
    {
     "ename": "ERROR",
     "evalue": "Error in `[.data.frame`(x, r, vars, drop = drop): undefined columns selected\n",
     "output_type": "error",
     "traceback": [
      "Error in `[.data.frame`(x, r, vars, drop = drop): undefined columns selected\nTraceback:\n",
      "1. subset(cluster_group, select = c(\"FIPS\", \"cluster_group\"))",
      "2. subset.data.frame(cluster_group, select = c(\"FIPS\", \"cluster_group\"))",
      "3. x[r, vars, drop = drop]",
      "4. `[.data.frame`(x, r, vars, drop = drop)",
      "5. stop(\"undefined columns selected\")"
     ]
    }
   ],
   "source": [
    "library(plotly)\n",
    "library(maps)\n",
    "library(dplyr)\n",
    "library(ggplot2)\n",
    "\n",
    "county_df <- map_data(\"county\")\n",
    "state_df <- map_data(\"state\")\n",
    "\n",
    "#full_df <- read.csv(\"C:/Users/cathy/Capstone_project_1/Datasets/combined.csv\")\n",
    "#rownames(df) <- df$FIPS\n",
    "\n",
    "cluster_group <-read.csv('C:/Users/cathy/Capstone_project_1/Datasets/cluster_groups.csv', sep=',',header=T,stringsAsFactors=FALSE)\n",
    "\n",
    "state_county_name<-read.csv(\"C:/Users/cathy/Capstone_project_1/Datasets/state_county_name.csv\",header=T,stringsAsFactors=FALSE)"
   ]
  },
  {
   "cell_type": "code",
   "execution_count": 14,
   "metadata": {},
   "outputs": [
    {
     "data": {
      "text/html": [
       "<ol class=list-inline>\n",
       "\t<li>'FIPS'</li>\n",
       "\t<li>'clusters'</li>\n",
       "</ol>\n"
      ],
      "text/latex": [
       "\\begin{enumerate*}\n",
       "\\item 'FIPS'\n",
       "\\item 'clusters'\n",
       "\\end{enumerate*}\n"
      ],
      "text/markdown": [
       "1. 'FIPS'\n",
       "2. 'clusters'\n",
       "\n",
       "\n"
      ],
      "text/plain": [
       "[1] \"FIPS\"     \"clusters\""
      ]
     },
     "metadata": {},
     "output_type": "display_data"
    }
   ],
   "source": [
    "colnames(cluster_group)"
   ]
  },
  {
   "cell_type": "code",
   "execution_count": 15,
   "metadata": {},
   "outputs": [
    {
     "data": {
      "text/html": [
       "<ol class=list-inline>\n",
       "\t<li>'FIPS'</li>\n",
       "\t<li>'clusters'</li>\n",
       "\t<li>'State'</li>\n",
       "\t<li>'County'</li>\n",
       "</ol>\n"
      ],
      "text/latex": [
       "\\begin{enumerate*}\n",
       "\\item 'FIPS'\n",
       "\\item 'clusters'\n",
       "\\item 'State'\n",
       "\\item 'County'\n",
       "\\end{enumerate*}\n"
      ],
      "text/markdown": [
       "1. 'FIPS'\n",
       "2. 'clusters'\n",
       "3. 'State'\n",
       "4. 'County'\n",
       "\n",
       "\n"
      ],
      "text/plain": [
       "[1] \"FIPS\"     \"clusters\" \"State\"    \"County\"  "
      ]
     },
     "metadata": {},
     "output_type": "display_data"
    }
   ],
   "source": [
    "#state_county_name$FIPS\n",
    "#rownames(state_county_name)<-state_county_name$FIPS\n",
    "\n",
    "data<-subset(cluster_group, select = c(\"FIPS\", \"clusters\"))\n",
    "county_fips<-subset(state_county_name, select = c(\"State\", \"FIPS\", \"County\"))\n",
    "df<-merge(data, county_fips, by='FIPS')\n",
    "\n",
    "colnames(df)\n",
    "#df$county_name"
   ]
  },
  {
   "cell_type": "code",
   "execution_count": 16,
   "metadata": {},
   "outputs": [],
   "source": [
    "df$County %<>%\n",
    "   \n",
    "  gsub(\" County\", \"\", .) %>%\n",
    "  gsub(\" county\", \"\", .) %>%\n",
    "  gsub(\" parish\", \"\", .) %>%\n",
    "  gsub(\" \", \"\", .) %>%\n",
    "  gsub(\"[.]\", \"\", .)\n",
    "\n",
    "#df$county_name<-tolower(df$county_name)\n",
    "\n",
    "county_df$subregion <- gsub(\" \", \"\", county_df$subregion)\n",
    "\n",
    "colnames(df)<-c(\"FIPS\",\"clusters\",\"region\",\"subregion\")"
   ]
  },
  {
   "cell_type": "code",
   "execution_count": 17,
   "metadata": {},
   "outputs": [],
   "source": [
    "choropleth <- inner_join(county_df, df, by = c(\"region\", \"subregion\"))\n",
    "choropleth <- choropleth[!duplicated(choropleth$order), ]\n",
    "\n",
    "colors=c(\"1\"='blue',\n",
    "         \"2\" = 'red',\n",
    "         \"3\"='yellow',\n",
    "         \"4\"='pink',\n",
    "         \"5\"='turquoise',\n",
    "         \"6\"='orange')"
   ]
  },
  {
   "cell_type": "code",
   "execution_count": 18,
   "metadata": {},
   "outputs": [],
   "source": [
    "library(scales)\n",
    "\n",
    "p <- ggplot(choropleth, aes(long, lat, group = group)) +\n",
    "  geom_polygon(aes(fill = clusters), #text = paste(\"Division:\", Division)), \n",
    "               colour = alpha(\"white\", 1/2), size = 0.1)  +\n",
    "  geom_polygon(data = state_df, colour = \"white\", fill = NA) +\n",
    "  scale_fill_manual(values = colors)+\n",
    "  theme_void()\n"
   ]
  },
  {
   "cell_type": "code",
   "execution_count": 19,
   "metadata": {},
   "outputs": [],
   "source": [
    "library(devtools)\n"
   ]
  },
  {
   "cell_type": "code",
   "execution_count": 20,
   "metadata": {},
   "outputs": [
    {
     "data": {
      "image/png": "[encoded data removed]",
      "text/plain": [
       "plot without title"
      ]
     },
     "metadata": {},
     "output_type": "display_data"
    }
   ],
   "source": [
    "print (p)"
   ]
  },
  {
   "cell_type": "code",
   "execution_count": null,
   "metadata": {},
   "outputs": [],
   "source": []
  }
 ],
 "metadata": {
  "kernelspec": {
   "display_name": "R",
   "language": "R",
   "name": "ir"
  },
  "language_info": {
   "codemirror_mode": "r",
   "file_extension": ".r",
   "mimetype": "text/x-r-source",
   "name": "R",
   "pygments_lexer": "r",
   "version": "3.4.2"
  }
 },
 "nbformat": 4,
 "nbformat_minor": 2
}
