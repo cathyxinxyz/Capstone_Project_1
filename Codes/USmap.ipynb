{
 "cells": [
  {
   "cell_type": "code",
   "execution_count": 2,
   "metadata": {},
   "outputs": [],
   "source": [
    "library(plotly)\n",
    "library(maps)\n",
    "library(dplyr)\n",
    "library(ggplot2)\n",
    "\n"
   ]
  },
  {
   "cell_type": "code",
   "execution_count": null,
   "metadata": {},
   "outputs": [],
   "source": [
    "#var: variable to plot, df: dataframe to extract the variable with State full names as 'region' column \n",
    "# and County full names as 'subregion' column\n",
    "\n",
    "USmap_plot<-function (var, data, colors){ \n",
    "    county_df <- map_data(\"county\")\n",
    "    state_df <- map_data(\"state\")\n",
    "\n",
    "    county_df$subregion <- gsub(\" \", \"\", county_df$subregion)\n",
    "    \n",
    "    df<-subset(df, select = c(\"State\", \"County\", var))\n",
    "\n",
    "    choropleth <- inner_join(county_df, df, by = c(\"region\", \"subregion\"))\n",
    "    choropleth <- choropleth[!duplicated(choropleth$order), ]\n",
    "\n",
    "    p <- ggplot(choropleth, aes(long, lat, group = group)) +\n",
    "         geom_polygon(aes(fill = Division, text = paste(\"Division:\", Division)), \n",
    "         colour = alpha(\"white\", 1/2), size = 0.1)  +\n",
    "  geom_polygon(data = state_df, colour = \"white\", fill = NA) +\n",
    "  scale_fill_manual(values = colors)+\n",
    "  theme_void()\n",
    "\n",
    "\n",
    "    p <- ggplotly(p, tooltip = 'text') %>% \n",
    "      layout(\n",
    "        hovermode = 'x',\n",
    "        margin = list(\n",
    "          t = 20,\n",
    "          b = 20,\n",
    "          l = 20,\n",
    "          r = 20),\n",
    "        legend = list(\n",
    "          orientation = 'h',\n",
    "          x = 0.5,\n",
    "          y = 1.01,\n",
    "          xanchor = 'center'))\n",
    "\n",
    "    return (p)\n",
    "}"
   ]
  },
  {
   "cell_type": "code",
   "execution_count": null,
   "metadata": {},
   "outputs": [],
   "source": [
    "colors=c(\"East South Central\" = 'blue',\n",
    "         \"Pacific\" = 'red',\n",
    "         \"Mountain\"='yellow',\n",
    "         \"West South Central\"='pink',\n",
    "         \"New England\"='turquoise',\n",
    "         \"South Atlantic\"='orange',\n",
    "         \"East North Central\"='green',\n",
    "          \"West North Central\"=\"darkmagenta\",\n",
    "          \"Middle Atlantic\"=\"salmon\"\n",
    "  )\n",
    "\n"
   ]
  }
 ],
 "metadata": {
  "kernelspec": {
   "display_name": "R",
   "language": "R",
   "name": "ir"
  },
  "language_info": {
   "codemirror_mode": "r",
   "file_extension": ".r",
   "mimetype": "text/x-r-source",
   "name": "R",
   "pygments_lexer": "r",
   "version": "3.4.2"
  }
 },
 "nbformat": 4,
 "nbformat_minor": 2
}
