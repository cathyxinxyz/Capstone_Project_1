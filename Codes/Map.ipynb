{
 "cells": [
  {
   "cell_type": "code",
   "execution_count": 2,
   "metadata": {},
   "outputs": [],
   "source": [
    "#load all libraries\n",
    "library(choroplethr)\n",
    "library(choroplethrMaps)\n",
    "require(RCurl)\n",
    "library(plyr)\n",
    "library(ggplot2)\n",
    "library(dplyr)\n",
    "library(reshape2)\n",
    "library(gridExtra)\n",
    "library(knitr)\n",
    "library(repr)\n",
    "\n",
    "options(warn=-1)"
   ]
  },
  {
   "cell_type": "code",
   "execution_count": 2,
   "metadata": {},
   "outputs": [],
   "source": [
    "url='https://raw.githubusercontent.com/cathyxinxyz/Capstone_Project_1/master/Datasets/Combined_data_new.csv'\n",
    "df <-read.csv(text=getURL(url), sep=',',header=T)"
   ]
  },
  {
   "cell_type": "code",
   "execution_count": 3,
   "metadata": {},
   "outputs": [],
   "source": [
    "Map<- function (df,var){\n",
    "        df_map<-df[,c(\"FIPS\",var)]\n",
    "        df_map<-na.omit(df_map)\n",
    "\n",
    "        colnames(df_map)<-c(\"region\",\"value\")\n",
    "        county_choropleth(df_map, title =var, legend='')\n",
    "}"
   ]
  },
  {
   "cell_type": "code",
   "execution_count": 4,
   "metadata": {},
   "outputs": [
    {
     "data": {
      "text/html": [
       "<ol class=list-inline>\n",
       "\t<li>'FIPS'</li>\n",
       "\t<li>'State'</li>\n",
       "\t<li>'County'</li>\n",
       "\t<li>'Low_Access_Overall'</li>\n",
       "\t<li>'Low_Access_low_income'</li>\n",
       "\t<li>'Low_Access_Child'</li>\n",
       "\t<li>'Low_Access_Seniors'</li>\n",
       "\t<li>'Grocery'</li>\n",
       "\t<li>'Supercenter'</li>\n",
       "\t<li>'Convenience'</li>\n",
       "\t<li>'Specialized'</li>\n",
       "\t<li>'SNAP_store'</li>\n",
       "\t<li>'WIC_store'</li>\n",
       "\t<li>'Fast_food'</li>\n",
       "\t<li>'Full_service'</li>\n",
       "\t<li>'Assistance'</li>\n",
       "\t<li>'Low_insecurity'</li>\n",
       "\t<li>'Very_low_insecurity'</li>\n",
       "\t<li>'Farm'</li>\n",
       "\t<li>'Adult_db'</li>\n",
       "\t<li>'Adult_ob'</li>\n",
       "\t<li>'Recreation_facility'</li>\n",
       "\t<li>'White'</li>\n",
       "\t<li>'Black'</li>\n",
       "\t<li>'Hispanic'</li>\n",
       "\t<li>'Asian'</li>\n",
       "\t<li>'American.Indian.or.Alaska.Native'</li>\n",
       "\t<li>'Hawaiian.or.Pacific.Islander'</li>\n",
       "\t<li>'X..65'</li>\n",
       "\t<li>'X.18'</li>\n",
       "\t<li>'Poverty_rate'</li>\n",
       "\t<li>'prevalence.of.diabetes'</li>\n",
       "\t<li>'prevalence.of.obesity'</li>\n",
       "\t<li>'prevalence.of.physical.inactivity'</li>\n",
       "</ol>\n"
      ],
      "text/latex": [
       "\\begin{enumerate*}\n",
       "\\item 'FIPS'\n",
       "\\item 'State'\n",
       "\\item 'County'\n",
       "\\item 'Low\\_Access\\_Overall'\n",
       "\\item 'Low\\_Access\\_low\\_income'\n",
       "\\item 'Low\\_Access\\_Child'\n",
       "\\item 'Low\\_Access\\_Seniors'\n",
       "\\item 'Grocery'\n",
       "\\item 'Supercenter'\n",
       "\\item 'Convenience'\n",
       "\\item 'Specialized'\n",
       "\\item 'SNAP\\_store'\n",
       "\\item 'WIC\\_store'\n",
       "\\item 'Fast\\_food'\n",
       "\\item 'Full\\_service'\n",
       "\\item 'Assistance'\n",
       "\\item 'Low\\_insecurity'\n",
       "\\item 'Very\\_low\\_insecurity'\n",
       "\\item 'Farm'\n",
       "\\item 'Adult\\_db'\n",
       "\\item 'Adult\\_ob'\n",
       "\\item 'Recreation\\_facility'\n",
       "\\item 'White'\n",
       "\\item 'Black'\n",
       "\\item 'Hispanic'\n",
       "\\item 'Asian'\n",
       "\\item 'American.Indian.or.Alaska.Native'\n",
       "\\item 'Hawaiian.or.Pacific.Islander'\n",
       "\\item 'X..65'\n",
       "\\item 'X.18'\n",
       "\\item 'Poverty\\_rate'\n",
       "\\item 'prevalence.of.diabetes'\n",
       "\\item 'prevalence.of.obesity'\n",
       "\\item 'prevalence.of.physical.inactivity'\n",
       "\\end{enumerate*}\n"
      ],
      "text/markdown": [
       "1. 'FIPS'\n",
       "2. 'State'\n",
       "3. 'County'\n",
       "4. 'Low_Access_Overall'\n",
       "5. 'Low_Access_low_income'\n",
       "6. 'Low_Access_Child'\n",
       "7. 'Low_Access_Seniors'\n",
       "8. 'Grocery'\n",
       "9. 'Supercenter'\n",
       "10. 'Convenience'\n",
       "11. 'Specialized'\n",
       "12. 'SNAP_store'\n",
       "13. 'WIC_store'\n",
       "14. 'Fast_food'\n",
       "15. 'Full_service'\n",
       "16. 'Assistance'\n",
       "17. 'Low_insecurity'\n",
       "18. 'Very_low_insecurity'\n",
       "19. 'Farm'\n",
       "20. 'Adult_db'\n",
       "21. 'Adult_ob'\n",
       "22. 'Recreation_facility'\n",
       "23. 'White'\n",
       "24. 'Black'\n",
       "25. 'Hispanic'\n",
       "26. 'Asian'\n",
       "27. 'American.Indian.or.Alaska.Native'\n",
       "28. 'Hawaiian.or.Pacific.Islander'\n",
       "29. 'X..65'\n",
       "30. 'X.18'\n",
       "31. 'Poverty_rate'\n",
       "32. 'prevalence.of.diabetes'\n",
       "33. 'prevalence.of.obesity'\n",
       "34. 'prevalence.of.physical.inactivity'\n",
       "\n",
       "\n"
      ],
      "text/plain": [
       " [1] \"FIPS\"                              \"State\"                            \n",
       " [3] \"County\"                            \"Low_Access_Overall\"               \n",
       " [5] \"Low_Access_low_income\"             \"Low_Access_Child\"                 \n",
       " [7] \"Low_Access_Seniors\"                \"Grocery\"                          \n",
       " [9] \"Supercenter\"                       \"Convenience\"                      \n",
       "[11] \"Specialized\"                       \"SNAP_store\"                       \n",
       "[13] \"WIC_store\"                         \"Fast_food\"                        \n",
       "[15] \"Full_service\"                      \"Assistance\"                       \n",
       "[17] \"Low_insecurity\"                    \"Very_low_insecurity\"              \n",
       "[19] \"Farm\"                              \"Adult_db\"                         \n",
       "[21] \"Adult_ob\"                          \"Recreation_facility\"              \n",
       "[23] \"White\"                             \"Black\"                            \n",
       "[25] \"Hispanic\"                          \"Asian\"                            \n",
       "[27] \"American.Indian.or.Alaska.Native\"  \"Hawaiian.or.Pacific.Islander\"     \n",
       "[29] \"X..65\"                             \"X.18\"                             \n",
       "[31] \"Poverty_rate\"                      \"prevalence.of.diabetes\"           \n",
       "[33] \"prevalence.of.obesity\"             \"prevalence.of.physical.inactivity\""
      ]
     },
     "metadata": {},
     "output_type": "display_data"
    }
   ],
   "source": [
    "colnames(df)"
   ]
  },
  {
   "cell_type": "code",
   "execution_count": 5,
   "metadata": {
    "scrolled": false
   },
   "outputs": [
    {
     "ename": "ERROR",
     "evalue": "Error in `[.data.frame`(df, , c(\"FIPS\", var)): undefined columns selected\n",
     "output_type": "error",
     "traceback": [
      "Error in `[.data.frame`(df, , c(\"FIPS\", var)): undefined columns selected\nTraceback:\n",
      "1. Map(df, var)",
      "2. df[, c(\"FIPS\", var)]   # at line 2 of file <text>",
      "3. `[.data.frame`(df, , c(\"FIPS\", var))   # at line 2 of file <text>",
      "4. stop(\"undefined columns selected\")"
     ]
    }
   ],
   "source": [
    "var<-'X2013_ob'\n",
    "Map(df, var)"
   ]
  },
  {
   "cell_type": "code",
   "execution_count": null,
   "metadata": {},
   "outputs": [],
   "source": [
    "var<-'X..65'\n",
    "Map(df, var)"
   ]
  },
  {
   "cell_type": "code",
   "execution_count": null,
   "metadata": {},
   "outputs": [],
   "source": [
    "var<-'X2010_ob_ad'\n",
    "Map(df, var)"
   ]
  },
  {
   "cell_type": "code",
   "execution_count": null,
   "metadata": {},
   "outputs": [],
   "source": [
    "Map(df, 'X2010_phy')\n",
    "#colnames(df_cdc)"
   ]
  },
  {
   "cell_type": "code",
   "execution_count": null,
   "metadata": {},
   "outputs": [],
   "source": [
    "Map(df, 'Poverty_rate')"
   ]
  },
  {
   "cell_type": "code",
   "execution_count": null,
   "metadata": {},
   "outputs": [],
   "source": [
    "Map(df, 'Percentage_fast_food')"
   ]
  },
  {
   "cell_type": "code",
   "execution_count": null,
   "metadata": {},
   "outputs": [],
   "source": [
    "Map(df, 'Low_Access_Overall')"
   ]
  },
  {
   "cell_type": "code",
   "execution_count": null,
   "metadata": {},
   "outputs": [],
   "source": []
  }
 ],
 "metadata": {
  "kernelspec": {
   "display_name": "R",
   "language": "R",
   "name": "ir"
  },
  "language_info": {
   "codemirror_mode": "r",
   "file_extension": ".r",
   "mimetype": "text/x-r-source",
   "name": "R",
   "pygments_lexer": "r",
   "version": "3.4.2"
  }
 },
 "nbformat": 4,
 "nbformat_minor": 2
}
