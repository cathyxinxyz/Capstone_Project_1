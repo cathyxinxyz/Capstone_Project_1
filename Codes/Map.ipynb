{
 "cells": [
  {
   "cell_type": "code",
   "execution_count": 7,
   "metadata": {},
   "outputs": [],
   "source": [
    "#load all libraries\n",
    "library(choroplethr)\n",
    "library(choroplethrMaps)\n",
    "require(RCurl)\n",
    "library(plyr)\n",
    "library(ggplot2)\n",
    "library(dplyr)\n",
    "library(reshape2)\n",
    "library(gridExtra)\n",
    "library(knitr)\n",
    "library(repr)\n",
    "\n",
    "options(warn=-1)"
   ]
  },
  {
   "cell_type": "code",
   "execution_count": 8,
   "metadata": {},
   "outputs": [],
   "source": [
    "url='https://raw.githubusercontent.com/cathyxinxyz/Capstone_Project_1/master/Datasets/Combined_data_new.csv'\n",
    "df <-read.csv(text=getURL(url), sep=',',header=T)"
   ]
  },
  {
   "cell_type": "code",
   "execution_count": null,
   "metadata": {},
   "outputs": [],
   "source": [
    "url='https://raw.githubusercontent.com/cathyxinxyz/Capstone_Project_1/master/Datasets/Combined_data_new.csv'\n",
    "var_df <-read.csv(text=getURL(url), sep=',',header=T)"
   ]
  },
  {
   "cell_type": "code",
   "execution_count": 4,
   "metadata": {},
   "outputs": [],
   "source": [
    "Map<- function (df,var){\n",
    "        df_map<-df[,c(\"FIPS\",var)]\n",
    "        df_map<-na.omit(df_map)\n",
    "\n",
    "        colnames(df_map)<-c(\"region\",\"value\")\n",
    "        county_choropleth(df_map, title =var, legend='')\n",
    "}"
   ]
  },
  {
   "cell_type": "code",
   "execution_count": 5,
   "metadata": {},
   "outputs": [
    {
     "data": {
      "text/html": [
       "<ol class=list-inline>\n",
       "\t<li>'FIPS'</li>\n",
       "\t<li>'var68'</li>\n",
       "\t<li>'var44'</li>\n",
       "\t<li>'var60'</li>\n",
       "\t<li>'var14'</li>\n",
       "\t<li>'var13'</li>\n",
       "\t<li>'var39'</li>\n",
       "\t<li>'var9'</li>\n",
       "\t<li>'var67'</li>\n",
       "\t<li>'var3'</li>\n",
       "\t<li>'var40'</li>\n",
       "\t<li>'var23'</li>\n",
       "\t<li>'var8'</li>\n",
       "\t<li>'var18'</li>\n",
       "\t<li>'var2'</li>\n",
       "\t<li>'var65'</li>\n",
       "\t<li>'var29'</li>\n",
       "\t<li>'var30'</li>\n",
       "\t<li>'var15'</li>\n",
       "\t<li>'var61'</li>\n",
       "\t<li>'var64'</li>\n",
       "\t<li>'var24'</li>\n",
       "\t<li>'var59'</li>\n",
       "\t<li>'var5'</li>\n",
       "\t<li>'var27'</li>\n",
       "\t<li>'var6'</li>\n",
       "\t<li>'var16'</li>\n",
       "\t<li>'var17'</li>\n",
       "\t<li>'var10'</li>\n",
       "\t<li>'var35'</li>\n",
       "\t<li>'var69'</li>\n",
       "\t<li>'var34'</li>\n",
       "\t<li>'var21'</li>\n",
       "\t<li>'var38'</li>\n",
       "\t<li>'var19'</li>\n",
       "\t<li>'var22'</li>\n",
       "\t<li>'var33'</li>\n",
       "\t<li>'var11'</li>\n",
       "\t<li>'var62'</li>\n",
       "\t<li>'var63'</li>\n",
       "\t<li>'var1'</li>\n",
       "\t<li>'var58'</li>\n",
       "\t<li>'var36'</li>\n",
       "\t<li>'var31'</li>\n",
       "\t<li>'var28'</li>\n",
       "\t<li>'var20'</li>\n",
       "\t<li>'var32'</li>\n",
       "\t<li>'var66'</li>\n",
       "\t<li>'var12'</li>\n",
       "\t<li>'var4'</li>\n",
       "\t<li>'var41'</li>\n",
       "\t<li>'var37'</li>\n",
       "\t<li>'var7'</li>\n",
       "\t<li>'prevalence.of.diabetes'</li>\n",
       "\t<li>'prevalence.of.obesity'</li>\n",
       "\t<li>'prevalence.of.physical.inactivity'</li>\n",
       "\t<li>'RUCC_2013'</li>\n",
       "\t<li>'State'</li>\n",
       "\t<li>'County'</li>\n",
       "\t<li>'Division'</li>\n",
       "\t<li>'Region'</li>\n",
       "</ol>\n"
      ],
      "text/latex": [
       "\\begin{enumerate*}\n",
       "\\item 'FIPS'\n",
       "\\item 'var68'\n",
       "\\item 'var44'\n",
       "\\item 'var60'\n",
       "\\item 'var14'\n",
       "\\item 'var13'\n",
       "\\item 'var39'\n",
       "\\item 'var9'\n",
       "\\item 'var67'\n",
       "\\item 'var3'\n",
       "\\item 'var40'\n",
       "\\item 'var23'\n",
       "\\item 'var8'\n",
       "\\item 'var18'\n",
       "\\item 'var2'\n",
       "\\item 'var65'\n",
       "\\item 'var29'\n",
       "\\item 'var30'\n",
       "\\item 'var15'\n",
       "\\item 'var61'\n",
       "\\item 'var64'\n",
       "\\item 'var24'\n",
       "\\item 'var59'\n",
       "\\item 'var5'\n",
       "\\item 'var27'\n",
       "\\item 'var6'\n",
       "\\item 'var16'\n",
       "\\item 'var17'\n",
       "\\item 'var10'\n",
       "\\item 'var35'\n",
       "\\item 'var69'\n",
       "\\item 'var34'\n",
       "\\item 'var21'\n",
       "\\item 'var38'\n",
       "\\item 'var19'\n",
       "\\item 'var22'\n",
       "\\item 'var33'\n",
       "\\item 'var11'\n",
       "\\item 'var62'\n",
       "\\item 'var63'\n",
       "\\item 'var1'\n",
       "\\item 'var58'\n",
       "\\item 'var36'\n",
       "\\item 'var31'\n",
       "\\item 'var28'\n",
       "\\item 'var20'\n",
       "\\item 'var32'\n",
       "\\item 'var66'\n",
       "\\item 'var12'\n",
       "\\item 'var4'\n",
       "\\item 'var41'\n",
       "\\item 'var37'\n",
       "\\item 'var7'\n",
       "\\item 'prevalence.of.diabetes'\n",
       "\\item 'prevalence.of.obesity'\n",
       "\\item 'prevalence.of.physical.inactivity'\n",
       "\\item 'RUCC\\_2013'\n",
       "\\item 'State'\n",
       "\\item 'County'\n",
       "\\item 'Division'\n",
       "\\item 'Region'\n",
       "\\end{enumerate*}\n"
      ],
      "text/markdown": [
       "1. 'FIPS'\n",
       "2. 'var68'\n",
       "3. 'var44'\n",
       "4. 'var60'\n",
       "5. 'var14'\n",
       "6. 'var13'\n",
       "7. 'var39'\n",
       "8. 'var9'\n",
       "9. 'var67'\n",
       "10. 'var3'\n",
       "11. 'var40'\n",
       "12. 'var23'\n",
       "13. 'var8'\n",
       "14. 'var18'\n",
       "15. 'var2'\n",
       "16. 'var65'\n",
       "17. 'var29'\n",
       "18. 'var30'\n",
       "19. 'var15'\n",
       "20. 'var61'\n",
       "21. 'var64'\n",
       "22. 'var24'\n",
       "23. 'var59'\n",
       "24. 'var5'\n",
       "25. 'var27'\n",
       "26. 'var6'\n",
       "27. 'var16'\n",
       "28. 'var17'\n",
       "29. 'var10'\n",
       "30. 'var35'\n",
       "31. 'var69'\n",
       "32. 'var34'\n",
       "33. 'var21'\n",
       "34. 'var38'\n",
       "35. 'var19'\n",
       "36. 'var22'\n",
       "37. 'var33'\n",
       "38. 'var11'\n",
       "39. 'var62'\n",
       "40. 'var63'\n",
       "41. 'var1'\n",
       "42. 'var58'\n",
       "43. 'var36'\n",
       "44. 'var31'\n",
       "45. 'var28'\n",
       "46. 'var20'\n",
       "47. 'var32'\n",
       "48. 'var66'\n",
       "49. 'var12'\n",
       "50. 'var4'\n",
       "51. 'var41'\n",
       "52. 'var37'\n",
       "53. 'var7'\n",
       "54. 'prevalence.of.diabetes'\n",
       "55. 'prevalence.of.obesity'\n",
       "56. 'prevalence.of.physical.inactivity'\n",
       "57. 'RUCC_2013'\n",
       "58. 'State'\n",
       "59. 'County'\n",
       "60. 'Division'\n",
       "61. 'Region'\n",
       "\n",
       "\n"
      ],
      "text/plain": [
       " [1] \"FIPS\"                              \"var68\"                            \n",
       " [3] \"var44\"                             \"var60\"                            \n",
       " [5] \"var14\"                             \"var13\"                            \n",
       " [7] \"var39\"                             \"var9\"                             \n",
       " [9] \"var67\"                             \"var3\"                             \n",
       "[11] \"var40\"                             \"var23\"                            \n",
       "[13] \"var8\"                              \"var18\"                            \n",
       "[15] \"var2\"                              \"var65\"                            \n",
       "[17] \"var29\"                             \"var30\"                            \n",
       "[19] \"var15\"                             \"var61\"                            \n",
       "[21] \"var64\"                             \"var24\"                            \n",
       "[23] \"var59\"                             \"var5\"                             \n",
       "[25] \"var27\"                             \"var6\"                             \n",
       "[27] \"var16\"                             \"var17\"                            \n",
       "[29] \"var10\"                             \"var35\"                            \n",
       "[31] \"var69\"                             \"var34\"                            \n",
       "[33] \"var21\"                             \"var38\"                            \n",
       "[35] \"var19\"                             \"var22\"                            \n",
       "[37] \"var33\"                             \"var11\"                            \n",
       "[39] \"var62\"                             \"var63\"                            \n",
       "[41] \"var1\"                              \"var58\"                            \n",
       "[43] \"var36\"                             \"var31\"                            \n",
       "[45] \"var28\"                             \"var20\"                            \n",
       "[47] \"var32\"                             \"var66\"                            \n",
       "[49] \"var12\"                             \"var4\"                             \n",
       "[51] \"var41\"                             \"var37\"                            \n",
       "[53] \"var7\"                              \"prevalence.of.diabetes\"           \n",
       "[55] \"prevalence.of.obesity\"             \"prevalence.of.physical.inactivity\"\n",
       "[57] \"RUCC_2013\"                         \"State\"                            \n",
       "[59] \"County\"                            \"Division\"                         \n",
       "[61] \"Region\"                           "
      ]
     },
     "metadata": {},
     "output_type": "display_data"
    }
   ],
   "source": [
    "colnames(df)"
   ]
  },
  {
   "cell_type": "code",
   "execution_count": 10,
   "metadata": {
    "scrolled": false
   },
   "outputs": [
    {
     "data": {},
     "metadata": {},
     "output_type": "display_data"
    },
    {
     "ename": "ERROR",
     "evalue": "Error in png(tf, width, height, \"in\", pointsize, bg, res, antialias = antialias): unable to start png() device\n",
     "output_type": "error",
     "traceback": [
      "Error in png(tf, width, height, \"in\", pointsize, bg, res, antialias = antialias): unable to start png() device\nTraceback:\n"
     ]
    },
    {
     "data": {
      "text/plain": [
       "plot without title"
      ]
     },
     "metadata": {},
     "output_type": "display_data"
    }
   ],
   "source": [
    "var<-'prevalence.of.diabetes'\n",
    "Map(df, var)"
   ]
  },
  {
   "cell_type": "code",
   "execution_count": null,
   "metadata": {},
   "outputs": [],
   "source": [
    "var<-'prevalence.of.obesity'\n",
    "Map(df, var)"
   ]
  },
  {
   "cell_type": "code",
   "execution_count": 11,
   "metadata": {},
   "outputs": [
    {
     "data": {},
     "metadata": {},
     "output_type": "display_data"
    },
    {
     "ename": "ERROR",
     "evalue": "Error in png(tf, width, height, \"in\", pointsize, bg, res, antialias = antialias): unable to start png() device\n",
     "output_type": "error",
     "traceback": [
      "Error in png(tf, width, height, \"in\", pointsize, bg, res, antialias = antialias): unable to start png() device\nTraceback:\n"
     ]
    },
    {
     "data": {
      "text/plain": [
       "plot without title"
      ]
     },
     "metadata": {},
     "output_type": "display_data"
    }
   ],
   "source": [
    "var<-'prevalence.of.physical.inactivity'\n",
    "Map(df, var)"
   ]
  },
  {
   "cell_type": "code",
   "execution_count": null,
   "metadata": {},
   "outputs": [],
   "source": [
    "Map(df, 'X2010_phy')\n",
    "#colnames(df_cdc)"
   ]
  },
  {
   "cell_type": "code",
   "execution_count": null,
   "metadata": {},
   "outputs": [],
   "source": [
    "Map(df, 'Poverty_rate')"
   ]
  },
  {
   "cell_type": "code",
   "execution_count": null,
   "metadata": {},
   "outputs": [],
   "source": [
    "Map(df, 'Percentage_fast_food')"
   ]
  },
  {
   "cell_type": "code",
   "execution_count": null,
   "metadata": {},
   "outputs": [],
   "source": [
    "Map(df, 'Low_Access_Overall')"
   ]
  },
  {
   "cell_type": "code",
   "execution_count": null,
   "metadata": {},
   "outputs": [],
   "source": []
  }
 ],
 "metadata": {
  "kernelspec": {
   "display_name": "R",
   "language": "R",
   "name": "ir"
  }
 },
 "nbformat": 4,
 "nbformat_minor": 2
}
